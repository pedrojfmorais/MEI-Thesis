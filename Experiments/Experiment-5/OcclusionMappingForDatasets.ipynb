{
  "cells": [
    {
      "cell_type": "code",
      "execution_count": null,
      "metadata": {
        "colab": {
          "base_uri": "https://localhost:8080/"
        },
        "id": "cuztbzrz-SD5",
        "outputId": "d95eb662-0bb2-48a6-d1f7-d7dae8a9c90d"
      },
      "outputs": [
        {
          "output_type": "stream",
          "name": "stdout",
          "text": [
            "Mounted at /content/drive\n"
          ]
        }
      ],
      "source": [
        "from google.colab import drive\n",
        "drive.mount('/content/drive')"
      ]
    },
    {
      "cell_type": "code",
      "execution_count": null,
      "metadata": {
        "colab": {
          "base_uri": "https://localhost:8080/"
        },
        "id": "Rd42Pqb4_rEQ",
        "outputId": "d0ae1149-9023-441a-ed8c-48e2c7e4b748"
      },
      "outputs": [
        {
          "name": "stdout",
          "output_type": "stream",
          "text": [
            "Downloading Dlib 68-point shape predictor...\n",
            "--2025-06-12 10:54:33--  http://dlib.net/files/shape_predictor_68_face_landmarks.dat.bz2\n",
            "Resolving dlib.net (dlib.net)... 107.180.26.78\n",
            "Connecting to dlib.net (dlib.net)|107.180.26.78|:80... connected.\n",
            "HTTP request sent, awaiting response... 301 Moved Permanently\n",
            "Location: https://dlib.net/files/shape_predictor_68_face_landmarks.dat.bz2 [following]\n",
            "--2025-06-12 10:54:33--  https://dlib.net/files/shape_predictor_68_face_landmarks.dat.bz2\n",
            "Connecting to dlib.net (dlib.net)|107.180.26.78|:443... connected.\n",
            "HTTP request sent, awaiting response... 200 OK\n",
            "Length: 64040097 (61M)\n",
            "Saving to: ‘shape_predictor_68_face_landmarks.dat.bz2’\n",
            "\n",
            "shape_predictor_68_ 100%[===================>]  61.07M  33.7MB/s    in 1.8s    \n",
            "\n",
            "2025-06-12 10:54:35 (33.7 MB/s) - ‘shape_predictor_68_face_landmarks.dat.bz2’ saved [64040097/64040097]\n",
            "\n",
            "Extracting model...\n",
            "✅ Model downloaded and extracted successfully!\n"
          ]
        },
        {
          "data": {
            "text/plain": []
          },
          "execution_count": 2,
          "metadata": {},
          "output_type": "execute_result"
        }
      ],
      "source": [
        "%%shell\n",
        "\n",
        "#Download the compressed model file\n",
        "echo \"Downloading Dlib 68-point shape predictor...\"\n",
        "wget http://dlib.net/files/shape_predictor_68_face_landmarks.dat.bz2\n",
        "\n",
        "# Extract it\n",
        "echo \"Extracting model...\"\n",
        "bzip2 -dk shape_predictor_68_face_landmarks.dat.bz2\n",
        "\n",
        "# Confirm\n",
        "if [ -f shape_predictor_68_face_landmarks.dat ]; then\n",
        "    echo \"✅ Model downloaded and extracted successfully!\"\n",
        "else\n",
        "    echo \"❌ Something went wrong.\"\n",
        "fi"
      ]
    },
    {
      "cell_type": "code",
      "execution_count": null,
      "metadata": {
        "id": "p7OCkVi8-VFK"
      },
      "outputs": [],
      "source": [
        "import cv2\n",
        "import dlib\n",
        "import os\n",
        "from imutils import face_utils\n",
        "from tqdm import tqdm\n",
        "\n",
        "# Landmark model path\n",
        "landmark_model = '/content/shape_predictor_68_face_landmarks.dat'\n",
        "\n",
        "def create_occluded_regions_dataset(input_dir):\n",
        "\n",
        "    # Define\n",
        "    output_base_dir = input_dir.rstrip('/') + '-occluded-regions'\n",
        "    last_dir_name = '/'.join(input_dir.rstrip('/').split(os.sep)[-2:])\n",
        "\n",
        "    # Create output folders\n",
        "    regions = ['left_eye', 'right_eye', 'nose', 'mouth']\n",
        "    for region in regions:\n",
        "        os.makedirs(os.path.join(output_base_dir, region), exist_ok=True)\n",
        "\n",
        "    # Load Dlib models\n",
        "    detector = dlib.get_frontal_face_detector()\n",
        "    predictor = dlib.shape_predictor(landmark_model)\n",
        "\n",
        "    # Region landmarks\n",
        "    region_indices = {\n",
        "        'left_eye': list(range(36, 42)),\n",
        "        'right_eye': list(range(42, 48)),\n",
        "        'nose': list(range(27, 36)),\n",
        "        'mouth': list(range(48, 68)),\n",
        "    }\n",
        "\n",
        "    def occlude_region(image, landmarks, indices):\n",
        "        pts = landmarks[indices]\n",
        "\n",
        "        # Expand the occlusion region by a scale factor (e.g., 1.5 = 50% larger)\n",
        "        scale = 1.5\n",
        "        x, y, w, h = cv2.boundingRect(pts)\n",
        "\n",
        "        # Compute center and new size\n",
        "        cx, cy = x + w // 2, y + h // 2\n",
        "        new_w, new_h = int(w * scale), int(h * scale)\n",
        "        new_x = max(0, cx - new_w // 2)\n",
        "        new_y = max(0, cy - new_h // 2)\n",
        "\n",
        "        # Make sure we don't go out of image bounds\n",
        "        new_x2 = min(image.shape[1], new_x + new_w)\n",
        "        new_y2 = min(image.shape[0], new_y + new_h)\n",
        "\n",
        "        # Apply the occlusion\n",
        "        cv2.rectangle(image, (new_x, new_y), (new_x2, new_y2), (0, 0, 0), -1)\n",
        "\n",
        "        return image\n",
        "\n",
        "    # Collect all image files recursively\n",
        "    image_files = []\n",
        "    for root, dirs, files in os.walk(input_dir):\n",
        "        for file in files:\n",
        "            if file.lower().endswith(('.jpg', '.png', '.jpeg')):\n",
        "                # Save full path and relative path for output\n",
        "                full_path = os.path.join(root, file)\n",
        "                rel_path = os.path.relpath(full_path, input_dir)\n",
        "                image_files.append((full_path, rel_path))\n",
        "\n",
        "    # Process images with progress bar\n",
        "    for full_path, rel_path in tqdm(image_files, desc=f\"Landmark occlusion: {last_dir_name}\"):\n",
        "        image = cv2.imread(full_path)\n",
        "        if image is None:\n",
        "            print(f\"Warning: Failed to load {full_path}. Skipping.\")\n",
        "            continue\n",
        "\n",
        "        gray = cv2.cvtColor(image, cv2.COLOR_BGR2GRAY)\n",
        "        faces = detector(gray)\n",
        "\n",
        "        if len(faces) == 0:\n",
        "            print(f\"No face detected in {rel_path}. Skipping.\")\n",
        "            continue\n",
        "\n",
        "        shape = predictor(gray, faces[0])\n",
        "        landmarks = face_utils.shape_to_np(shape)\n",
        "\n",
        "        for region, indices in region_indices.items():\n",
        "            img_copy = image.copy()\n",
        "            occluded = occlude_region(img_copy, landmarks, indices)\n",
        "\n",
        "            # Preserve subdirectory structure in output\n",
        "            output_path = os.path.join(output_base_dir, region, rel_path)\n",
        "            output_dir = os.path.dirname(output_path)\n",
        "            os.makedirs(output_dir, exist_ok=True)\n",
        "\n",
        "            cv2.imwrite(output_path, occluded)\n",
        "\n",
        "    print(\"✅ Occlusion completed!\")\n"
      ]
    },
    {
      "cell_type": "code",
      "execution_count": null,
      "metadata": {
        "id": "0YXsCqNkW17o"
      },
      "outputs": [],
      "source": [
        "import cv2\n",
        "import os\n",
        "from tqdm import tqdm\n",
        "\n",
        "\n",
        "def create_grid_occlusion_dataset(input_dir, rows=4, cols=4):\n",
        "    last_dir_name = '/'.join(input_dir.rstrip('/').split(os.sep)[-2:])\n",
        "\n",
        "    def occlude_grid_cell(image, rows, cols, row_idx, col_idx):\n",
        "        h, w = image.shape[:2]\n",
        "        cell_h, cell_w = h // rows, w // cols\n",
        "\n",
        "        # Calculate cell coordinates\n",
        "        x1 = col_idx * cell_w\n",
        "        y1 = row_idx * cell_h\n",
        "        x2 = min(w, x1 + cell_w)\n",
        "        y2 = min(h, y1 + cell_h)\n",
        "\n",
        "        # Make a copy and apply occlusion\n",
        "        occluded = image.copy()\n",
        "        cv2.rectangle(occluded, (x1, y1), (x2, y2), (0, 0, 0), -1)\n",
        "        return occluded\n",
        "\n",
        "    output_base_dir = input_dir.rstrip('/') + f'-grid-{rows}x{cols}-occluded'\n",
        "    os.makedirs(output_base_dir, exist_ok=True)\n",
        "\n",
        "    # Collect all image files recursively\n",
        "    image_files = []\n",
        "    for root, dirs, files in os.walk(input_dir):\n",
        "        for file in files:\n",
        "            if file.lower().endswith(('.jpg', '.png', '.jpeg')):\n",
        "                full_path = os.path.join(root, file)\n",
        "                rel_path = os.path.relpath(full_path, input_dir)\n",
        "                image_files.append((full_path, rel_path))\n",
        "\n",
        "    # Process each image\n",
        "    for full_path, rel_path in tqdm(image_files, desc=f\"Grid occlusion: {last_dir_name}\"):\n",
        "        image = cv2.imread(full_path)\n",
        "        if image is None:\n",
        "            print(f\"Warning: Failed to load {full_path}. Skipping.\")\n",
        "            continue\n",
        "\n",
        "        for row in range(rows):\n",
        "            for col in range(cols):\n",
        "                occluded = occlude_grid_cell(image, rows, cols, row, col)\n",
        "\n",
        "                # Save to respective directory\n",
        "                grid_name = f\"r{row}_c{col}\"\n",
        "                output_path = os.path.join(output_base_dir, grid_name, rel_path)\n",
        "                os.makedirs(os.path.dirname(output_path), exist_ok=True)\n",
        "                cv2.imwrite(output_path, occluded)\n",
        "\n",
        "    print(\"✅ Grid-based occlusion completed!\")\n"
      ]
    },
    {
      "cell_type": "code",
      "execution_count": null,
      "metadata": {
        "id": "_B_xotyOFnbO"
      },
      "outputs": [],
      "source": [
        "dataset_to_process = [\n",
        "    '/content/drive/MyDrive/mad/code/ViT-SVM/datasets/frll-cropped/bonafide/',\n",
        "    '/content/drive/MyDrive/mad/code/ViT-SVM/datasets/frll-cropped/morphs/',\n",
        "    '/content/drive/MyDrive/mad/code/ViT-SVM/datasets/ffhq-cropped/morphs/',\n",
        "    ]"
      ]
    },
    {
      "cell_type": "code",
      "execution_count": null,
      "metadata": {
        "colab": {
          "background_save": true,
          "base_uri": "https://localhost:8080/"
        },
        "id": "GEi9EXcRW9jH",
        "outputId": "fcde8d1e-45a2-4987-b9ce-dc885854eaee"
      },
      "outputs": [
        {
          "name": "stderr",
          "output_type": "stream",
          "text": [
            "Grid occlusion: frll-cropped/bonafide: 100%|██████████| 204/204 [03:07<00:00,  1.09it/s]\n"
          ]
        },
        {
          "name": "stdout",
          "output_type": "stream",
          "text": [
            "✅ Grid-based occlusion completed!\n"
          ]
        },
        {
          "name": "stderr",
          "output_type": "stream",
          "text": [
            "Grid occlusion: frll-cropped/morphs: 100%|██████████| 7061/7061 [1:27:10<00:00,  1.35it/s]\n"
          ]
        },
        {
          "name": "stdout",
          "output_type": "stream",
          "text": [
            "✅ Grid-based occlusion completed!\n"
          ]
        },
        {
          "name": "stderr",
          "output_type": "stream",
          "text": [
            "Grid occlusion: ffhq-cropped/morphs: 100%|██████████| 25012/25012 [7:35:48<00:00,  1.09s/it]"
          ]
        },
        {
          "name": "stdout",
          "output_type": "stream",
          "text": [
            "✅ Grid-based occlusion completed!\n"
          ]
        },
        {
          "name": "stderr",
          "output_type": "stream",
          "text": [
            "\n"
          ]
        }
      ],
      "source": [
        "for dataset in dataset_to_process:\n",
        "    create_grid_occlusion_dataset(dataset)"
      ]
    },
    {
      "cell_type": "code",
      "execution_count": null,
      "metadata": {
        "colab": {
          "background_save": true,
          "base_uri": "https://localhost:8080/"
        },
        "id": "1csMMmvSW-XZ",
        "outputId": "750ef313-25a3-45ca-c937-5cfaf02db396"
      },
      "outputs": [
        {
          "name": "stderr",
          "output_type": "stream",
          "text": [
            "Landmark occlusion: frll-cropped/bonafide:  15%|█▍        | 30/204 [00:09<00:47,  3.68it/s]"
          ]
        },
        {
          "name": "stdout",
          "output_type": "stream",
          "text": [
            "No face detected in neutral/082_03.png. Skipping.\n"
          ]
        },
        {
          "name": "stderr",
          "output_type": "stream",
          "text": [
            "Landmark occlusion: frll-cropped/bonafide:  41%|████      | 83/204 [00:23<00:31,  3.78it/s]"
          ]
        },
        {
          "name": "stdout",
          "output_type": "stream",
          "text": [
            "No face detected in neutral/042_03.png. Skipping.\n"
          ]
        },
        {
          "name": "stderr",
          "output_type": "stream",
          "text": [
            "Landmark occlusion: frll-cropped/bonafide: 100%|██████████| 204/204 [01:35<00:00,  2.14it/s]\n"
          ]
        },
        {
          "name": "stdout",
          "output_type": "stream",
          "text": [
            "✅ Occlusion completed!\n"
          ]
        },
        {
          "name": "stderr",
          "output_type": "stream",
          "text": [
            "Landmark occlusion: frll-cropped/morphs:  49%|████▉     | 3465/7061 [19:00<20:08,  2.98it/s]"
          ]
        },
        {
          "name": "stdout",
          "output_type": "stream",
          "text": [
            "No face detected in morph_opencv/082_061.png. Skipping.\n"
          ]
        },
        {
          "name": "stderr",
          "output_type": "stream",
          "text": [
            "Landmark occlusion: frll-cropped/morphs: 100%|██████████| 7061/7061 [53:40<00:00,  2.19it/s]\n"
          ]
        },
        {
          "name": "stdout",
          "output_type": "stream",
          "text": [
            "✅ Occlusion completed!\n"
          ]
        },
        {
          "name": "stderr",
          "output_type": "stream",
          "text": [
            "Landmark occlusion: ffhq-cropped/morphs:   0%|          | 70/25012 [03:01<1:47:08,  3.88it/s]"
          ]
        },
        {
          "name": "stdout",
          "output_type": "stream",
          "text": [
            "No face detected in diffae/31825_16152.png. Skipping.\n"
          ]
        },
        {
          "name": "stderr",
          "output_type": "stream",
          "text": [
            "Landmark occlusion: ffhq-cropped/morphs:   0%|          | 109/25012 [03:08<1:08:00,  6.10it/s]"
          ]
        },
        {
          "name": "stdout",
          "output_type": "stream",
          "text": [
            "No face detected in diffae/69382_18243.png. Skipping.\n"
          ]
        },
        {
          "name": "stderr",
          "output_type": "stream",
          "text": [
            "Landmark occlusion: ffhq-cropped/morphs:   1%|          | 235/25012 [03:21<35:16, 11.70it/s]"
          ]
        },
        {
          "name": "stdout",
          "output_type": "stream",
          "text": [
            "No face detected in diffae/34290_43207.png. Skipping.\n"
          ]
        },
        {
          "name": "stderr",
          "output_type": "stream",
          "text": [
            "Landmark occlusion: ffhq-cropped/morphs:   2%|▏         | 442/25012 [03:43<39:26, 10.38it/s]"
          ]
        },
        {
          "name": "stdout",
          "output_type": "stream",
          "text": [
            "No face detected in diffae/15591_11402.png. Skipping.\n"
          ]
        },
        {
          "name": "stderr",
          "output_type": "stream",
          "text": [
            "Landmark occlusion: ffhq-cropped/morphs:   2%|▏         | 564/25012 [03:55<33:49, 12.05it/s]"
          ]
        },
        {
          "name": "stdout",
          "output_type": "stream",
          "text": [
            "No face detected in diffae/46797_30876.png. Skipping.\n"
          ]
        },
        {
          "name": "stderr",
          "output_type": "stream",
          "text": [
            "Landmark occlusion: ffhq-cropped/morphs:   2%|▏         | 574/25012 [03:56<35:32, 11.46it/s]"
          ]
        },
        {
          "name": "stdout",
          "output_type": "stream",
          "text": [
            "No face detected in diffae/52724_57678.png. Skipping.\n"
          ]
        },
        {
          "name": "stderr",
          "output_type": "stream",
          "text": [
            "Landmark occlusion: ffhq-cropped/morphs:   3%|▎         | 747/25012 [04:15<40:56,  9.88it/s]"
          ]
        },
        {
          "name": "stdout",
          "output_type": "stream",
          "text": [
            "No face detected in diffae/55837_28072.png. Skipping.\n"
          ]
        },
        {
          "name": "stderr",
          "output_type": "stream",
          "text": [
            "Landmark occlusion: ffhq-cropped/morphs:   3%|▎         | 857/25012 [04:26<33:45, 11.93it/s]"
          ]
        },
        {
          "name": "stdout",
          "output_type": "stream",
          "text": [
            "No face detected in diffae/27300_11794.png. Skipping.\n"
          ]
        },
        {
          "name": "stderr",
          "output_type": "stream",
          "text": [
            "Landmark occlusion: ffhq-cropped/morphs:   4%|▍         | 991/25012 [04:46<36:03, 11.10it/s]"
          ]
        },
        {
          "name": "stdout",
          "output_type": "stream",
          "text": [
            "No face detected in diffae/67759_59510.png. Skipping.\n"
          ]
        },
        {
          "name": "stderr",
          "output_type": "stream",
          "text": [
            "Landmark occlusion: ffhq-cropped/morphs:   4%|▍         | 1021/25012 [04:49<34:20, 11.64it/s]"
          ]
        },
        {
          "name": "stdout",
          "output_type": "stream",
          "text": [
            "No face detected in diffae/51250_09795.png. Skipping.\n"
          ]
        },
        {
          "name": "stderr",
          "output_type": "stream",
          "text": [
            "Landmark occlusion: ffhq-cropped/morphs:   4%|▍         | 1088/25012 [04:57<53:41,  7.43it/s]"
          ]
        },
        {
          "name": "stdout",
          "output_type": "stream",
          "text": [
            "No face detected in diffae/38795_10385.png. Skipping.\n"
          ]
        },
        {
          "name": "stderr",
          "output_type": "stream",
          "text": [
            "Landmark occlusion: ffhq-cropped/morphs:   5%|▍         | 1126/25012 [05:02<30:26, 13.08it/s]"
          ]
        },
        {
          "name": "stdout",
          "output_type": "stream",
          "text": [
            "No face detected in diffae/11375_06538.png. Skipping.\n",
            "No face detected in diffae/24002_55158.png. Skipping.\n"
          ]
        },
        {
          "name": "stderr",
          "output_type": "stream",
          "text": [
            "Landmark occlusion: ffhq-cropped/morphs:   5%|▍         | 1144/25012 [05:04<40:19,  9.86it/s]"
          ]
        },
        {
          "name": "stdout",
          "output_type": "stream",
          "text": [
            "No face detected in diffae/27757_40222.png. Skipping.\n"
          ]
        },
        {
          "name": "stderr",
          "output_type": "stream",
          "text": [
            "Landmark occlusion: ffhq-cropped/morphs:   5%|▍         | 1177/25012 [05:07<35:32, 11.18it/s]"
          ]
        },
        {
          "name": "stdout",
          "output_type": "stream",
          "text": [
            "No face detected in diffae/19246_17668.png. Skipping.\n"
          ]
        },
        {
          "name": "stderr",
          "output_type": "stream",
          "text": [
            "Landmark occlusion: ffhq-cropped/morphs:   5%|▍         | 1206/25012 [05:10<35:52, 11.06it/s]"
          ]
        },
        {
          "name": "stdout",
          "output_type": "stream",
          "text": [
            "No face detected in diffae/21459_69772.png. Skipping.\n"
          ]
        },
        {
          "name": "stderr",
          "output_type": "stream",
          "text": [
            "Landmark occlusion: ffhq-cropped/morphs:   5%|▍         | 1230/25012 [05:13<33:51, 11.71it/s]"
          ]
        },
        {
          "name": "stdout",
          "output_type": "stream",
          "text": [
            "No face detected in diffae/32440_65548.png. Skipping.\n"
          ]
        },
        {
          "name": "stderr",
          "output_type": "stream",
          "text": [
            "Landmark occlusion: ffhq-cropped/morphs:   5%|▍         | 1239/25012 [05:16<1:19:51,  4.96it/s]"
          ]
        },
        {
          "name": "stdout",
          "output_type": "stream",
          "text": [
            "No face detected in diffae/55629_03914.png. Skipping.\n"
          ]
        },
        {
          "name": "stderr",
          "output_type": "stream",
          "text": [
            "Landmark occlusion: ffhq-cropped/morphs:   6%|▋         | 1577/25012 [05:55<34:31, 11.31it/s]"
          ]
        },
        {
          "name": "stdout",
          "output_type": "stream",
          "text": [
            "No face detected in diffae/62470_24489.png. Skipping.\n"
          ]
        },
        {
          "name": "stderr",
          "output_type": "stream",
          "text": [
            "Landmark occlusion: ffhq-cropped/morphs:   6%|▋         | 1581/25012 [05:55<30:08, 12.96it/s]"
          ]
        },
        {
          "name": "stdout",
          "output_type": "stream",
          "text": [
            "No face detected in diffae/66571_42620.png. Skipping.\n"
          ]
        },
        {
          "name": "stderr",
          "output_type": "stream",
          "text": [
            "Landmark occlusion: ffhq-cropped/morphs:   6%|▋         | 1606/25012 [05:57<31:55, 12.22it/s]"
          ]
        },
        {
          "name": "stdout",
          "output_type": "stream",
          "text": [
            "No face detected in diffae/32799_19862.png. Skipping.\n"
          ]
        },
        {
          "name": "stderr",
          "output_type": "stream",
          "text": [
            "Landmark occlusion: ffhq-cropped/morphs:   7%|▋         | 1681/25012 [06:06<37:56, 10.25it/s]"
          ]
        },
        {
          "name": "stdout",
          "output_type": "stream",
          "text": [
            "No face detected in diffae/24818_09769.png. Skipping.\n"
          ]
        },
        {
          "name": "stderr",
          "output_type": "stream",
          "text": [
            "Landmark occlusion: ffhq-cropped/morphs:   7%|▋         | 1763/25012 [06:15<32:40, 11.86it/s]"
          ]
        },
        {
          "name": "stdout",
          "output_type": "stream",
          "text": [
            "No face detected in diffae/04508_58568.png. Skipping.\n"
          ]
        },
        {
          "name": "stderr",
          "output_type": "stream",
          "text": [
            "Landmark occlusion: ffhq-cropped/morphs:   7%|▋         | 1802/25012 [06:19<35:06, 11.02it/s]"
          ]
        },
        {
          "name": "stdout",
          "output_type": "stream",
          "text": [
            "No face detected in diffae/58889_21641.png. Skipping.\n"
          ]
        },
        {
          "name": "stderr",
          "output_type": "stream",
          "text": [
            "Landmark occlusion: ffhq-cropped/morphs:   7%|▋         | 1820/25012 [06:22<1:50:48,  3.49it/s]"
          ]
        },
        {
          "name": "stdout",
          "output_type": "stream",
          "text": [
            "No face detected in diffae/05335_49459.png. Skipping.\n"
          ]
        },
        {
          "name": "stderr",
          "output_type": "stream",
          "text": [
            "Landmark occlusion: ffhq-cropped/morphs:   8%|▊         | 1913/25012 [06:45<34:26, 11.18it/s]"
          ]
        },
        {
          "name": "stdout",
          "output_type": "stream",
          "text": [
            "No face detected in diffae/00482_23623.png. Skipping.\n"
          ]
        },
        {
          "name": "stderr",
          "output_type": "stream",
          "text": [
            "Landmark occlusion: ffhq-cropped/morphs:   8%|▊         | 1956/25012 [06:50<32:27, 11.84it/s]"
          ]
        },
        {
          "name": "stdout",
          "output_type": "stream",
          "text": [
            "No face detected in diffae/33599_49815.png. Skipping.\n"
          ]
        },
        {
          "name": "stderr",
          "output_type": "stream",
          "text": [
            "Landmark occlusion: ffhq-cropped/morphs:   8%|▊         | 1988/25012 [06:53<33:04, 11.60it/s]"
          ]
        },
        {
          "name": "stdout",
          "output_type": "stream",
          "text": [
            "No face detected in diffae/61081_22574.png. Skipping.\n"
          ]
        },
        {
          "name": "stderr",
          "output_type": "stream",
          "text": [
            "Landmark occlusion: ffhq-cropped/morphs:   8%|▊         | 2056/25012 [07:00<39:47,  9.62it/s]"
          ]
        },
        {
          "name": "stdout",
          "output_type": "stream",
          "text": [
            "No face detected in diffae/40577_56810.png. Skipping.\n"
          ]
        },
        {
          "name": "stderr",
          "output_type": "stream",
          "text": [
            "Landmark occlusion: ffhq-cropped/morphs:   8%|▊         | 2086/25012 [07:03<30:25, 12.56it/s]"
          ]
        },
        {
          "name": "stdout",
          "output_type": "stream",
          "text": [
            "No face detected in diffae/36303_04925.png. Skipping.\n"
          ]
        },
        {
          "name": "stderr",
          "output_type": "stream",
          "text": [
            "Landmark occlusion: ffhq-cropped/morphs:   8%|▊         | 2098/25012 [07:05<37:46, 10.11it/s]  "
          ]
        },
        {
          "name": "stdout",
          "output_type": "stream",
          "text": [
            "No face detected in diffae/19482_42705.png. Skipping.\n",
            "No face detected in diffae/29341_69370.png. Skipping.\n"
          ]
        },
        {
          "name": "stderr",
          "output_type": "stream",
          "text": [
            "Landmark occlusion: ffhq-cropped/morphs:  10%|▉         | 2379/25012 [07:40<32:07, 11.74it/s]"
          ]
        },
        {
          "name": "stdout",
          "output_type": "stream",
          "text": [
            "No face detected in diffae/66425_28084.png. Skipping.\n"
          ]
        },
        {
          "name": "stderr",
          "output_type": "stream",
          "text": [
            "Landmark occlusion: ffhq-cropped/morphs:  10%|▉         | 2403/25012 [07:42<33:26, 11.27it/s]"
          ]
        },
        {
          "name": "stdout",
          "output_type": "stream",
          "text": [
            "No face detected in diffae/51468_20447.png. Skipping.\n"
          ]
        },
        {
          "name": "stderr",
          "output_type": "stream",
          "text": [
            "Landmark occlusion: ffhq-cropped/morphs:  11%|█         | 2711/25012 [08:17<35:57, 10.34it/s]"
          ]
        },
        {
          "name": "stdout",
          "output_type": "stream",
          "text": [
            "No face detected in diffae/18835_17662.png. Skipping.\n"
          ]
        },
        {
          "name": "stderr",
          "output_type": "stream",
          "text": [
            "Landmark occlusion: ffhq-cropped/morphs:  11%|█         | 2769/25012 [08:23<34:22, 10.78it/s]"
          ]
        },
        {
          "name": "stdout",
          "output_type": "stream",
          "text": [
            "No face detected in diffae/45962_53715.png. Skipping.\n"
          ]
        },
        {
          "name": "stderr",
          "output_type": "stream",
          "text": [
            "Landmark occlusion: ffhq-cropped/morphs:  11%|█▏        | 2839/25012 [08:33<32:50, 11.25it/s]"
          ]
        },
        {
          "name": "stdout",
          "output_type": "stream",
          "text": [
            "No face detected in diffae/01567_58311.png. Skipping.\n"
          ]
        },
        {
          "name": "stderr",
          "output_type": "stream",
          "text": [
            "Landmark occlusion: ffhq-cropped/morphs:  11%|█▏        | 2873/25012 [08:37<42:45,  8.63it/s]"
          ]
        },
        {
          "name": "stdout",
          "output_type": "stream",
          "text": [
            "No face detected in diffae/05394_37085.png. Skipping.\n"
          ]
        },
        {
          "name": "stderr",
          "output_type": "stream",
          "text": [
            "Landmark occlusion: ffhq-cropped/morphs:  12%|█▏        | 2895/25012 [08:40<33:35, 10.98it/s]"
          ]
        },
        {
          "name": "stdout",
          "output_type": "stream",
          "text": [
            "No face detected in diffae/09916_25194.png. Skipping.\n"
          ]
        },
        {
          "name": "stderr",
          "output_type": "stream",
          "text": [
            "Landmark occlusion: ffhq-cropped/morphs:  12%|█▏        | 3003/25012 [08:52<29:50, 12.29it/s]"
          ]
        },
        {
          "name": "stdout",
          "output_type": "stream",
          "text": [
            "No face detected in diffae/03511_34895.png. Skipping.\n",
            "No face detected in diffae/69310_61637.png. Skipping.\n"
          ]
        },
        {
          "name": "stderr",
          "output_type": "stream",
          "text": [
            "Landmark occlusion: ffhq-cropped/morphs:  12%|█▏        | 3032/25012 [08:55<33:55, 10.80it/s]"
          ]
        },
        {
          "name": "stdout",
          "output_type": "stream",
          "text": [
            "No face detected in diffae/57497_28626.png. Skipping.\n"
          ]
        },
        {
          "name": "stderr",
          "output_type": "stream",
          "text": [
            "Landmark occlusion: ffhq-cropped/morphs:  13%|█▎        | 3353/25012 [09:34<33:30, 10.77it/s]"
          ]
        },
        {
          "name": "stdout",
          "output_type": "stream",
          "text": [
            "No face detected in diffae/46214_47660.png. Skipping.\n"
          ]
        },
        {
          "name": "stderr",
          "output_type": "stream",
          "text": [
            "Landmark occlusion: ffhq-cropped/morphs:  13%|█▎        | 3375/25012 [09:36<40:01,  9.01it/s]"
          ]
        },
        {
          "name": "stdout",
          "output_type": "stream",
          "text": [
            "No face detected in diffae/52129_67927.png. Skipping.\n"
          ]
        },
        {
          "name": "stderr",
          "output_type": "stream",
          "text": [
            "Landmark occlusion: ffhq-cropped/morphs:  14%|█▎        | 3397/25012 [09:39<33:01, 10.91it/s]"
          ]
        },
        {
          "name": "stdout",
          "output_type": "stream",
          "text": [
            "No face detected in diffae/45721_57299.png. Skipping.\n"
          ]
        },
        {
          "name": "stderr",
          "output_type": "stream",
          "text": [
            "Landmark occlusion: ffhq-cropped/morphs:  14%|█▎        | 3435/25012 [09:43<33:12, 10.83it/s]"
          ]
        },
        {
          "name": "stdout",
          "output_type": "stream",
          "text": [
            "No face detected in diffae/38917_07945.png. Skipping.\n"
          ]
        },
        {
          "name": "stderr",
          "output_type": "stream",
          "text": [
            "Landmark occlusion: ffhq-cropped/morphs:  14%|█▍        | 3473/25012 [09:47<35:55,  9.99it/s]"
          ]
        },
        {
          "name": "stdout",
          "output_type": "stream",
          "text": [
            "No face detected in diffae/12767_08101.png. Skipping.\n"
          ]
        },
        {
          "name": "stderr",
          "output_type": "stream",
          "text": [
            "Landmark occlusion: ffhq-cropped/morphs:  14%|█▍        | 3599/25012 [10:04<37:39,  9.48it/s]"
          ]
        },
        {
          "name": "stdout",
          "output_type": "stream",
          "text": [
            "No face detected in diffae/23631_27895.png. Skipping.\n"
          ]
        },
        {
          "name": "stderr",
          "output_type": "stream",
          "text": [
            "Landmark occlusion: ffhq-cropped/morphs:  15%|█▍        | 3653/25012 [10:11<34:31, 10.31it/s]"
          ]
        },
        {
          "name": "stdout",
          "output_type": "stream",
          "text": [
            "No face detected in diffae/27092_24158.png. Skipping.\n"
          ]
        },
        {
          "name": "stderr",
          "output_type": "stream",
          "text": [
            "Landmark occlusion: ffhq-cropped/morphs:  15%|█▌        | 3873/25012 [10:39<33:24, 10.55it/s]"
          ]
        },
        {
          "name": "stdout",
          "output_type": "stream",
          "text": [
            "No face detected in diffae/39529_63632.png. Skipping.\n"
          ]
        },
        {
          "name": "stderr",
          "output_type": "stream",
          "text": [
            "Landmark occlusion: ffhq-cropped/morphs:  16%|█▌        | 3945/25012 [10:49<32:03, 10.95it/s]"
          ]
        },
        {
          "name": "stdout",
          "output_type": "stream",
          "text": [
            "No face detected in diffae/07427_00653.png. Skipping.\n"
          ]
        },
        {
          "name": "stderr",
          "output_type": "stream",
          "text": [
            "Landmark occlusion: ffhq-cropped/morphs:  16%|█▌        | 3994/25012 [10:54<34:09, 10.26it/s]"
          ]
        },
        {
          "name": "stdout",
          "output_type": "stream",
          "text": [
            "No face detected in diffae/55096_55313.png. Skipping.\n"
          ]
        },
        {
          "name": "stderr",
          "output_type": "stream",
          "text": [
            "Landmark occlusion: ffhq-cropped/morphs:  16%|█▌        | 4014/25012 [10:56<30:14, 11.57it/s]"
          ]
        },
        {
          "name": "stdout",
          "output_type": "stream",
          "text": [
            "No face detected in diffae/33345_16245.png. Skipping.\n"
          ]
        },
        {
          "name": "stderr",
          "output_type": "stream",
          "text": [
            "Landmark occlusion: ffhq-cropped/morphs:  16%|█▌        | 4032/25012 [10:58<46:55,  7.45it/s]"
          ]
        },
        {
          "name": "stdout",
          "output_type": "stream",
          "text": [
            "No face detected in diffae/48757_35382.png. Skipping.\n"
          ]
        },
        {
          "name": "stderr",
          "output_type": "stream",
          "text": [
            "Landmark occlusion: ffhq-cropped/morphs:  16%|█▌        | 4061/25012 [11:03<53:15,  6.56it/s]  "
          ]
        },
        {
          "name": "stdout",
          "output_type": "stream",
          "text": [
            "No face detected in diffae/12827_00228.png. Skipping.\n"
          ]
        },
        {
          "name": "stderr",
          "output_type": "stream",
          "text": [
            "Landmark occlusion: ffhq-cropped/morphs:  16%|█▋        | 4094/25012 [11:07<32:38, 10.68it/s]"
          ]
        },
        {
          "name": "stdout",
          "output_type": "stream",
          "text": [
            "No face detected in diffae/33194_25533.png. Skipping.\n"
          ]
        },
        {
          "name": "stderr",
          "output_type": "stream",
          "text": [
            "Landmark occlusion: ffhq-cropped/morphs:  16%|█▋        | 4123/25012 [11:10<29:20, 11.87it/s]"
          ]
        },
        {
          "name": "stdout",
          "output_type": "stream",
          "text": [
            "No face detected in diffae/41041_26162.png. Skipping.\n"
          ]
        },
        {
          "name": "stderr",
          "output_type": "stream",
          "text": [
            "Landmark occlusion: ffhq-cropped/morphs:  17%|█▋        | 4138/25012 [11:12<34:29, 10.09it/s]"
          ]
        },
        {
          "name": "stdout",
          "output_type": "stream",
          "text": [
            "No face detected in diffae/58999_17180.png. Skipping.\n"
          ]
        },
        {
          "name": "stderr",
          "output_type": "stream",
          "text": [
            "Landmark occlusion: ffhq-cropped/morphs:  17%|█▋        | 4170/25012 [11:19<49:18,  7.04it/s]  "
          ]
        },
        {
          "name": "stdout",
          "output_type": "stream",
          "text": [
            "No face detected in diffae/00934_32297.png. Skipping.\n"
          ]
        },
        {
          "name": "stderr",
          "output_type": "stream",
          "text": [
            "Landmark occlusion: ffhq-cropped/morphs:  18%|█▊        | 4435/25012 [11:51<31:59, 10.72it/s]"
          ]
        },
        {
          "name": "stdout",
          "output_type": "stream",
          "text": [
            "No face detected in diffae/52725_50802.png. Skipping.\n"
          ]
        },
        {
          "name": "stderr",
          "output_type": "stream",
          "text": [
            "Landmark occlusion: ffhq-cropped/morphs:  18%|█▊        | 4503/25012 [11:58<39:03,  8.75it/s]"
          ]
        },
        {
          "name": "stdout",
          "output_type": "stream",
          "text": [
            "No face detected in diffae/55332_33142.png. Skipping.\n"
          ]
        },
        {
          "name": "stderr",
          "output_type": "stream",
          "text": [
            "Landmark occlusion: ffhq-cropped/morphs:  19%|█▊        | 4637/25012 [12:21<44:07,  7.70it/s]"
          ]
        },
        {
          "name": "stdout",
          "output_type": "stream",
          "text": [
            "No face detected in diffae/42485_02801.png. Skipping.\n"
          ]
        },
        {
          "name": "stderr",
          "output_type": "stream",
          "text": [
            "Landmark occlusion: ffhq-cropped/morphs:  19%|█▉        | 4709/25012 [12:29<34:44,  9.74it/s]"
          ]
        },
        {
          "name": "stdout",
          "output_type": "stream",
          "text": [
            "No face detected in diffae/01526_06443.png. Skipping.\n"
          ]
        },
        {
          "name": "stderr",
          "output_type": "stream",
          "text": [
            "Landmark occlusion: ffhq-cropped/morphs:  19%|█▉        | 4754/25012 [12:35<29:20, 11.51it/s]"
          ]
        },
        {
          "name": "stdout",
          "output_type": "stream",
          "text": [
            "No face detected in diffae/17374_15459.png. Skipping.\n"
          ]
        },
        {
          "name": "stderr",
          "output_type": "stream",
          "text": [
            "Landmark occlusion: ffhq-cropped/morphs:  19%|█▉        | 4795/25012 [12:41<31:41, 10.63it/s]"
          ]
        },
        {
          "name": "stdout",
          "output_type": "stream",
          "text": [
            "No face detected in diffae/66558_34365.png. Skipping.\n"
          ]
        },
        {
          "name": "stderr",
          "output_type": "stream",
          "text": [
            "Landmark occlusion: ffhq-cropped/morphs:  20%|██        | 5073/25012 [13:36<2:10:33,  2.55it/s]"
          ]
        },
        {
          "name": "stdout",
          "output_type": "stream",
          "text": [
            "No face detected in landmark-combined/22197_65316.png. Skipping.\n"
          ]
        },
        {
          "name": "stderr",
          "output_type": "stream",
          "text": [
            "Landmark occlusion: ffhq-cropped/morphs:  20%|██        | 5102/25012 [13:48<2:10:59,  2.53it/s]"
          ]
        },
        {
          "name": "stdout",
          "output_type": "stream",
          "text": [
            "No face detected in landmark-combined/06850_53087.png. Skipping.\n"
          ]
        },
        {
          "name": "stderr",
          "output_type": "stream",
          "text": [
            "Landmark occlusion: ffhq-cropped/morphs:  21%|██        | 5173/25012 [14:18<1:46:19,  3.11it/s]"
          ]
        },
        {
          "name": "stdout",
          "output_type": "stream",
          "text": [
            "No face detected in landmark-combined/37528_46349.png. Skipping.\n"
          ]
        },
        {
          "name": "stderr",
          "output_type": "stream",
          "text": [
            "Landmark occlusion: ffhq-cropped/morphs:  21%|██        | 5257/25012 [14:53<1:40:53,  3.26it/s]"
          ]
        },
        {
          "name": "stdout",
          "output_type": "stream",
          "text": [
            "No face detected in landmark-combined/15591_11402.png. Skipping.\n"
          ]
        },
        {
          "name": "stderr",
          "output_type": "stream",
          "text": [
            "Landmark occlusion: ffhq-cropped/morphs:  21%|██        | 5273/25012 [14:58<1:40:36,  3.27it/s]"
          ]
        },
        {
          "name": "stdout",
          "output_type": "stream",
          "text": [
            "No face detected in landmark-combined/09824_08939.png. Skipping.\n"
          ]
        },
        {
          "name": "stderr",
          "output_type": "stream",
          "text": [
            "Landmark occlusion: ffhq-cropped/morphs:  21%|██        | 5307/25012 [15:13<2:02:15,  2.69it/s]"
          ]
        },
        {
          "name": "stdout",
          "output_type": "stream",
          "text": [
            "No face detected in landmark-combined/25008_62181.png. Skipping.\n"
          ]
        },
        {
          "name": "stderr",
          "output_type": "stream",
          "text": [
            "Landmark occlusion: ffhq-cropped/morphs:  21%|██▏       | 5339/25012 [15:26<2:05:51,  2.61it/s]"
          ]
        },
        {
          "name": "stdout",
          "output_type": "stream",
          "text": [
            "No face detected in landmark-combined/15148_37439.png. Skipping.\n"
          ]
        },
        {
          "name": "stderr",
          "output_type": "stream",
          "text": [
            "Landmark occlusion: ffhq-cropped/morphs:  21%|██▏       | 5353/25012 [15:32<2:43:40,  2.00it/s]"
          ]
        },
        {
          "name": "stdout",
          "output_type": "stream",
          "text": [
            "No face detected in landmark-combined/46797_30876.png. Skipping.\n"
          ]
        },
        {
          "name": "stderr",
          "output_type": "stream",
          "text": [
            "Landmark occlusion: ffhq-cropped/morphs:  22%|██▏       | 5405/25012 [15:50<1:57:22,  2.78it/s]"
          ]
        },
        {
          "name": "stdout",
          "output_type": "stream",
          "text": [
            "No face detected in landmark-combined/52724_57678.png. Skipping.\n"
          ]
        },
        {
          "name": "stderr",
          "output_type": "stream",
          "text": [
            "Landmark occlusion: ffhq-cropped/morphs:  22%|██▏       | 5450/25012 [16:08<2:05:11,  2.60it/s]"
          ]
        },
        {
          "name": "stdout",
          "output_type": "stream",
          "text": [
            "No face detected in landmark-combined/07257_48654.png. Skipping.\n"
          ]
        },
        {
          "name": "stderr",
          "output_type": "stream",
          "text": [
            "Landmark occlusion: ffhq-cropped/morphs:  22%|██▏       | 5455/25012 [16:10<1:49:25,  2.98it/s]"
          ]
        },
        {
          "name": "stdout",
          "output_type": "stream",
          "text": [
            "No face detected in landmark-combined/44684_38976.png. Skipping.\n"
          ]
        },
        {
          "name": "stderr",
          "output_type": "stream",
          "text": [
            "Landmark occlusion: ffhq-cropped/morphs:  22%|██▏       | 5553/25012 [17:00<2:30:47,  2.15it/s]"
          ]
        },
        {
          "name": "stdout",
          "output_type": "stream",
          "text": [
            "No face detected in landmark-combined/15945_50991.png. Skipping.\n"
          ]
        },
        {
          "name": "stderr",
          "output_type": "stream",
          "text": [
            "Landmark occlusion: ffhq-cropped/morphs:  22%|██▏       | 5584/25012 [17:11<2:09:15,  2.51it/s]"
          ]
        },
        {
          "name": "stdout",
          "output_type": "stream",
          "text": [
            "No face detected in landmark-combined/58386_14027.png. Skipping.\n"
          ]
        },
        {
          "name": "stderr",
          "output_type": "stream",
          "text": [
            "Landmark occlusion: ffhq-cropped/morphs:  23%|██▎       | 5685/25012 [17:54<3:15:18,  1.65it/s]"
          ]
        },
        {
          "name": "stdout",
          "output_type": "stream",
          "text": [
            "No face detected in landmark-combined/59483_58532.png. Skipping.\n"
          ]
        },
        {
          "name": "stderr",
          "output_type": "stream",
          "text": [
            "Landmark occlusion: ffhq-cropped/morphs:  23%|██▎       | 5743/25012 [18:14<1:57:07,  2.74it/s]"
          ]
        },
        {
          "name": "stdout",
          "output_type": "stream",
          "text": [
            "No face detected in landmark-combined/29205_53056.png. Skipping.\n"
          ]
        },
        {
          "name": "stderr",
          "output_type": "stream",
          "text": [
            "Landmark occlusion: ffhq-cropped/morphs:  23%|██▎       | 5784/25012 [18:29<1:36:52,  3.31it/s]"
          ]
        },
        {
          "name": "stdout",
          "output_type": "stream",
          "text": [
            "No face detected in landmark-combined/51960_21741.png. Skipping.\n"
          ]
        },
        {
          "name": "stderr",
          "output_type": "stream",
          "text": [
            "Landmark occlusion: ffhq-cropped/morphs:  24%|██▎       | 5896/25012 [19:08<1:28:05,  3.62it/s]"
          ]
        },
        {
          "name": "stdout",
          "output_type": "stream",
          "text": [
            "No face detected in landmark-combined/12023_30678.png. Skipping.\n"
          ]
        },
        {
          "name": "stderr",
          "output_type": "stream",
          "text": [
            "Landmark occlusion: ffhq-cropped/morphs:  24%|██▎       | 5936/25012 [19:24<1:28:48,  3.58it/s]"
          ]
        },
        {
          "name": "stdout",
          "output_type": "stream",
          "text": [
            "No face detected in landmark-combined/19246_17668.png. Skipping.\n"
          ]
        },
        {
          "name": "stderr",
          "output_type": "stream",
          "text": [
            "Landmark occlusion: ffhq-cropped/morphs:  24%|██▍       | 5956/25012 [19:31<1:44:05,  3.05it/s]"
          ]
        },
        {
          "name": "stdout",
          "output_type": "stream",
          "text": [
            "No face detected in landmark-combined/55629_03914.png. Skipping.\n"
          ]
        },
        {
          "name": "stderr",
          "output_type": "stream",
          "text": [
            "Landmark occlusion: ffhq-cropped/morphs:  24%|██▍       | 5958/25012 [19:31<1:37:20,  3.26it/s]"
          ]
        },
        {
          "name": "stdout",
          "output_type": "stream",
          "text": [
            "No face detected in landmark-combined/62675_50614.png. Skipping.\n"
          ]
        },
        {
          "name": "stderr",
          "output_type": "stream",
          "text": [
            "Landmark occlusion: ffhq-cropped/morphs:  24%|██▍       | 6046/25012 [20:06<1:36:26,  3.28it/s]"
          ]
        },
        {
          "name": "stdout",
          "output_type": "stream",
          "text": [
            "No face detected in landmark-combined/32440_65548.png. Skipping.\n"
          ]
        },
        {
          "name": "stderr",
          "output_type": "stream",
          "text": [
            "Landmark occlusion: ffhq-cropped/morphs:  25%|██▍       | 6133/25012 [20:42<2:30:36,  2.09it/s]"
          ]
        },
        {
          "name": "stdout",
          "output_type": "stream",
          "text": [
            "No face detected in landmark-combined/35993_15140.png. Skipping.\n"
          ]
        },
        {
          "name": "stderr",
          "output_type": "stream",
          "text": [
            "Landmark occlusion: ffhq-cropped/morphs:  25%|██▍       | 6175/25012 [20:58<1:44:08,  3.01it/s]"
          ]
        },
        {
          "name": "stdout",
          "output_type": "stream",
          "text": [
            "No face detected in landmark-combined/01633_00901.png. Skipping.\n",
            "No face detected in landmark-combined/07800_35961.png. Skipping.\n"
          ]
        },
        {
          "name": "stderr",
          "output_type": "stream",
          "text": [
            "Landmark occlusion: ffhq-cropped/morphs:  25%|██▌       | 6273/25012 [21:36<1:38:18,  3.18it/s]"
          ]
        },
        {
          "name": "stdout",
          "output_type": "stream",
          "text": [
            "No face detected in landmark-combined/48229_06616.png. Skipping.\n"
          ]
        },
        {
          "name": "stderr",
          "output_type": "stream",
          "text": [
            "Landmark occlusion: ffhq-cropped/morphs:  25%|██▌       | 6279/25012 [21:39<2:05:14,  2.49it/s]"
          ]
        },
        {
          "name": "stdout",
          "output_type": "stream",
          "text": [
            "No face detected in landmark-combined/23650_45839.png. Skipping.\n"
          ]
        },
        {
          "name": "stderr",
          "output_type": "stream",
          "text": [
            "Landmark occlusion: ffhq-cropped/morphs:  25%|██▌       | 6325/25012 [21:55<1:28:32,  3.52it/s]"
          ]
        },
        {
          "name": "stdout",
          "output_type": "stream",
          "text": [
            "No face detected in landmark-combined/24226_69597.png. Skipping.\n"
          ]
        },
        {
          "name": "stderr",
          "output_type": "stream",
          "text": [
            "Landmark occlusion: ffhq-cropped/morphs:  25%|██▌       | 6334/25012 [21:57<1:36:55,  3.21it/s]"
          ]
        },
        {
          "name": "stdout",
          "output_type": "stream",
          "text": [
            "No face detected in landmark-combined/43758_67172.png. Skipping.\n"
          ]
        },
        {
          "name": "stderr",
          "output_type": "stream",
          "text": [
            "Landmark occlusion: ffhq-cropped/morphs:  26%|██▌       | 6393/25012 [22:20<1:25:21,  3.64it/s]"
          ]
        },
        {
          "name": "stdout",
          "output_type": "stream",
          "text": [
            "No face detected in landmark-combined/29966_60619.png. Skipping.\n"
          ]
        },
        {
          "name": "stderr",
          "output_type": "stream",
          "text": [
            "Landmark occlusion: ffhq-cropped/morphs:  26%|██▌       | 6404/25012 [22:24<1:47:34,  2.88it/s]"
          ]
        },
        {
          "name": "stdout",
          "output_type": "stream",
          "text": [
            "No face detected in landmark-combined/47126_35981.png. Skipping.\n"
          ]
        },
        {
          "name": "stderr",
          "output_type": "stream",
          "text": [
            "Landmark occlusion: ffhq-cropped/morphs:  26%|██▌       | 6417/25012 [22:30<2:55:48,  1.76it/s]"
          ]
        },
        {
          "name": "stdout",
          "output_type": "stream",
          "text": [
            "No face detected in landmark-combined/48028_60863.png. Skipping.\n"
          ]
        },
        {
          "name": "stderr",
          "output_type": "stream",
          "text": [
            "Landmark occlusion: ffhq-cropped/morphs:  26%|██▌       | 6453/25012 [22:43<1:23:26,  3.71it/s]"
          ]
        },
        {
          "name": "stdout",
          "output_type": "stream",
          "text": [
            "No face detected in landmark-combined/47503_14805.png. Skipping.\n"
          ]
        },
        {
          "name": "stderr",
          "output_type": "stream",
          "text": [
            "Landmark occlusion: ffhq-cropped/morphs:  26%|██▌       | 6473/25012 [22:50<1:31:59,  3.36it/s]"
          ]
        },
        {
          "name": "stdout",
          "output_type": "stream",
          "text": [
            "No face detected in landmark-combined/04508_58568.png. Skipping.\n"
          ]
        },
        {
          "name": "stderr",
          "output_type": "stream",
          "text": [
            "Landmark occlusion: ffhq-cropped/morphs:  26%|██▌       | 6484/25012 [22:54<1:34:10,  3.28it/s]"
          ]
        },
        {
          "name": "stdout",
          "output_type": "stream",
          "text": [
            "No face detected in landmark-combined/07046_17739.png. Skipping.\n"
          ]
        },
        {
          "name": "stderr",
          "output_type": "stream",
          "text": [
            "Landmark occlusion: ffhq-cropped/morphs:  26%|██▌       | 6502/25012 [23:01<1:29:02,  3.46it/s]"
          ]
        },
        {
          "name": "stdout",
          "output_type": "stream",
          "text": [
            "No face detected in landmark-combined/54731_25441.png. Skipping.\n"
          ]
        },
        {
          "name": "stderr",
          "output_type": "stream",
          "text": [
            "Landmark occlusion: ffhq-cropped/morphs:  26%|██▌       | 6527/25012 [23:09<1:40:00,  3.08it/s]"
          ]
        },
        {
          "name": "stdout",
          "output_type": "stream",
          "text": [
            "No face detected in landmark-combined/51250_09795.png. Skipping.\n"
          ]
        },
        {
          "name": "stderr",
          "output_type": "stream",
          "text": [
            "Landmark occlusion: ffhq-cropped/morphs:  26%|██▌       | 6540/25012 [23:14<2:04:55,  2.46it/s]"
          ]
        },
        {
          "name": "stdout",
          "output_type": "stream",
          "text": [
            "No face detected in landmark-combined/05335_49459.png. Skipping.\n"
          ]
        },
        {
          "name": "stderr",
          "output_type": "stream",
          "text": [
            "Landmark occlusion: ffhq-cropped/morphs:  26%|██▌       | 6545/25012 [23:15<1:39:18,  3.10it/s]"
          ]
        },
        {
          "name": "stdout",
          "output_type": "stream",
          "text": [
            "No face detected in landmark-combined/21459_69772.png. Skipping.\n"
          ]
        },
        {
          "name": "stderr",
          "output_type": "stream",
          "text": [
            "Landmark occlusion: ffhq-cropped/morphs:  26%|██▌       | 6556/25012 [23:19<1:33:02,  3.31it/s]"
          ]
        },
        {
          "name": "stdout",
          "output_type": "stream",
          "text": [
            "No face detected in landmark-combined/69532_15599.png. Skipping.\n"
          ]
        },
        {
          "name": "stderr",
          "output_type": "stream",
          "text": [
            "Landmark occlusion: ffhq-cropped/morphs:  27%|██▋       | 6680/25012 [24:04<1:26:40,  3.52it/s]"
          ]
        },
        {
          "name": "stdout",
          "output_type": "stream",
          "text": [
            "No face detected in landmark-combined/40614_31344.png. Skipping.\n"
          ]
        },
        {
          "name": "stderr",
          "output_type": "stream",
          "text": [
            "Landmark occlusion: ffhq-cropped/morphs:  27%|██▋       | 6780/25012 [24:43<1:38:31,  3.08it/s]"
          ]
        },
        {
          "name": "stdout",
          "output_type": "stream",
          "text": [
            "No face detected in landmark-combined/19482_42705.png. Skipping.\n"
          ]
        },
        {
          "name": "stderr",
          "output_type": "stream",
          "text": [
            "Landmark occlusion: ffhq-cropped/morphs:  27%|██▋       | 6782/25012 [24:44<1:55:13,  2.64it/s]"
          ]
        },
        {
          "name": "stdout",
          "output_type": "stream",
          "text": [
            "No face detected in landmark-combined/64339_51275.png. Skipping.\n"
          ]
        },
        {
          "name": "stderr",
          "output_type": "stream",
          "text": [
            "Landmark occlusion: ffhq-cropped/morphs:  27%|██▋       | 6865/25012 [25:24<2:11:43,  2.30it/s]"
          ]
        },
        {
          "name": "stdout",
          "output_type": "stream",
          "text": [
            "No face detected in landmark-combined/58807_28950.png. Skipping.\n"
          ]
        },
        {
          "name": "stderr",
          "output_type": "stream",
          "text": [
            "Landmark occlusion: ffhq-cropped/morphs:  28%|██▊       | 6886/25012 [25:32<2:04:15,  2.43it/s]"
          ]
        },
        {
          "name": "stdout",
          "output_type": "stream",
          "text": [
            "No face detected in landmark-combined/36303_04925.png. Skipping.\n"
          ]
        },
        {
          "name": "stderr",
          "output_type": "stream",
          "text": [
            "Landmark occlusion: ffhq-cropped/morphs:  28%|██▊       | 6889/25012 [25:33<1:32:23,  3.27it/s]"
          ]
        },
        {
          "name": "stdout",
          "output_type": "stream",
          "text": [
            "No face detected in landmark-combined/36908_31056.png. Skipping.\n"
          ]
        },
        {
          "name": "stderr",
          "output_type": "stream",
          "text": [
            "Landmark occlusion: ffhq-cropped/morphs:  28%|██▊       | 6897/25012 [25:36<1:25:45,  3.52it/s]"
          ]
        },
        {
          "name": "stdout",
          "output_type": "stream",
          "text": [
            "No face detected in landmark-combined/32799_19862.png. Skipping.\n"
          ]
        },
        {
          "name": "stderr",
          "output_type": "stream",
          "text": [
            "Landmark occlusion: ffhq-cropped/morphs:  28%|██▊       | 7024/25012 [26:24<2:20:21,  2.14it/s]"
          ]
        },
        {
          "name": "stdout",
          "output_type": "stream",
          "text": [
            "No face detected in landmark-combined/05880_67132.png. Skipping.\n"
          ]
        },
        {
          "name": "stderr",
          "output_type": "stream",
          "text": [
            "Landmark occlusion: ffhq-cropped/morphs:  28%|██▊       | 7057/25012 [26:35<1:34:27,  3.17it/s]"
          ]
        },
        {
          "name": "stdout",
          "output_type": "stream",
          "text": [
            "No face detected in landmark-combined/52048_63893.png. Skipping.\n"
          ]
        },
        {
          "name": "stderr",
          "output_type": "stream",
          "text": [
            "Landmark occlusion: ffhq-cropped/morphs:  28%|██▊       | 7118/25012 [27:06<2:50:02,  1.75it/s]"
          ]
        },
        {
          "name": "stdout",
          "output_type": "stream",
          "text": [
            "No face detected in landmark-combined/59872_13720.png. Skipping.\n"
          ]
        },
        {
          "name": "stderr",
          "output_type": "stream",
          "text": [
            "Landmark occlusion: ffhq-cropped/morphs:  29%|██▉       | 7198/25012 [27:37<1:45:55,  2.80it/s]"
          ]
        },
        {
          "name": "stdout",
          "output_type": "stream",
          "text": [
            "No face detected in landmark-combined/63146_16041.png. Skipping.\n"
          ]
        },
        {
          "name": "stderr",
          "output_type": "stream",
          "text": [
            "Landmark occlusion: ffhq-cropped/morphs:  29%|██▉       | 7200/25012 [27:38<2:02:17,  2.43it/s]"
          ]
        },
        {
          "name": "stdout",
          "output_type": "stream",
          "text": [
            "No face detected in landmark-combined/37250_38630.png. Skipping.\n"
          ]
        },
        {
          "name": "stderr",
          "output_type": "stream",
          "text": [
            "Landmark occlusion: ffhq-cropped/morphs:  29%|██▉       | 7213/25012 [27:44<2:12:05,  2.25it/s]"
          ]
        },
        {
          "name": "stdout",
          "output_type": "stream",
          "text": [
            "No face detected in landmark-combined/00778_66572.png. Skipping.\n"
          ]
        },
        {
          "name": "stderr",
          "output_type": "stream",
          "text": [
            "Landmark occlusion: ffhq-cropped/morphs:  29%|██▉       | 7247/25012 [27:59<1:41:32,  2.92it/s]"
          ]
        },
        {
          "name": "stdout",
          "output_type": "stream",
          "text": [
            "No face detected in landmark-combined/53644_08280.png. Skipping.\n"
          ]
        },
        {
          "name": "stderr",
          "output_type": "stream",
          "text": [
            "\rLandmark occlusion: ffhq-cropped/morphs:  29%|██▉       | 7248/25012 [27:59<1:31:15,  3.24it/s]"
          ]
        },
        {
          "name": "stdout",
          "output_type": "stream",
          "text": [
            "No face detected in landmark-combined/08630_29289.png. Skipping.\n"
          ]
        },
        {
          "name": "stderr",
          "output_type": "stream",
          "text": [
            "Landmark occlusion: ffhq-cropped/morphs:  29%|██▉       | 7321/25012 [28:30<2:06:46,  2.33it/s]"
          ]
        },
        {
          "name": "stdout",
          "output_type": "stream",
          "text": [
            "No face detected in landmark-combined/34595_15740.png. Skipping.\n"
          ]
        },
        {
          "name": "stderr",
          "output_type": "stream",
          "text": [
            "Landmark occlusion: ffhq-cropped/morphs:  29%|██▉       | 7336/25012 [28:35<1:27:29,  3.37it/s]"
          ]
        },
        {
          "name": "stdout",
          "output_type": "stream",
          "text": [
            "No face detected in landmark-combined/06582_48903.png. Skipping.\n"
          ]
        },
        {
          "name": "stderr",
          "output_type": "stream",
          "text": [
            "Landmark occlusion: ffhq-cropped/morphs:  29%|██▉       | 7352/25012 [28:40<1:20:06,  3.67it/s]"
          ]
        },
        {
          "name": "stdout",
          "output_type": "stream",
          "text": [
            "No face detected in landmark-combined/30103_49620.png. Skipping.\n"
          ]
        },
        {
          "name": "stderr",
          "output_type": "stream",
          "text": [
            "Landmark occlusion: ffhq-cropped/morphs:  29%|██▉       | 7367/25012 [28:45<1:37:29,  3.02it/s]"
          ]
        },
        {
          "name": "stdout",
          "output_type": "stream",
          "text": [
            "No face detected in landmark-combined/04703_23044.png. Skipping.\n"
          ]
        },
        {
          "name": "stderr",
          "output_type": "stream",
          "text": [
            "Landmark occlusion: ffhq-cropped/morphs:  30%|██▉       | 7389/25012 [28:53<1:40:40,  2.92it/s]"
          ]
        },
        {
          "name": "stdout",
          "output_type": "stream",
          "text": [
            "No face detected in landmark-combined/39062_08629.png. Skipping.\n"
          ]
        },
        {
          "name": "stderr",
          "output_type": "stream",
          "text": [
            "Landmark occlusion: ffhq-cropped/morphs:  30%|██▉       | 7436/25012 [29:09<1:24:12,  3.48it/s]"
          ]
        },
        {
          "name": "stdout",
          "output_type": "stream",
          "text": [
            "No face detected in landmark-combined/07389_40197.png. Skipping.\n"
          ]
        },
        {
          "name": "stderr",
          "output_type": "stream",
          "text": [
            "Landmark occlusion: ffhq-cropped/morphs:  30%|██▉       | 7440/25012 [29:11<1:35:16,  3.07it/s]"
          ]
        },
        {
          "name": "stdout",
          "output_type": "stream",
          "text": [
            "No face detected in landmark-combined/01912_30549.png. Skipping.\n"
          ]
        },
        {
          "name": "stderr",
          "output_type": "stream",
          "text": [
            "Landmark occlusion: ffhq-cropped/morphs:  30%|██▉       | 7483/25012 [29:30<1:45:42,  2.76it/s]"
          ]
        },
        {
          "name": "stdout",
          "output_type": "stream",
          "text": [
            "No face detected in landmark-combined/05394_37085.png. Skipping.\n"
          ]
        },
        {
          "name": "stderr",
          "output_type": "stream",
          "text": [
            "Landmark occlusion: ffhq-cropped/morphs:  30%|███       | 7549/25012 [29:55<1:22:33,  3.53it/s]"
          ]
        },
        {
          "name": "stdout",
          "output_type": "stream",
          "text": [
            "No face detected in landmark-combined/23736_64146.png. Skipping.\n"
          ]
        },
        {
          "name": "stderr",
          "output_type": "stream",
          "text": [
            "Landmark occlusion: ffhq-cropped/morphs:  30%|███       | 7553/25012 [29:57<1:30:52,  3.20it/s]"
          ]
        },
        {
          "name": "stdout",
          "output_type": "stream",
          "text": [
            "No face detected in landmark-combined/40243_17103.png. Skipping.\n"
          ]
        },
        {
          "name": "stderr",
          "output_type": "stream",
          "text": [
            "Landmark occlusion: ffhq-cropped/morphs:  30%|███       | 7593/25012 [30:13<1:26:31,  3.36it/s]"
          ]
        },
        {
          "name": "stdout",
          "output_type": "stream",
          "text": [
            "No face detected in landmark-combined/66391_64425.png. Skipping.\n"
          ]
        },
        {
          "name": "stderr",
          "output_type": "stream",
          "text": [
            "Landmark occlusion: ffhq-cropped/morphs:  31%|███       | 7652/25012 [30:36<1:32:42,  3.12it/s]"
          ]
        },
        {
          "name": "stdout",
          "output_type": "stream",
          "text": [
            "No face detected in landmark-combined/27498_44662.png. Skipping.\n"
          ]
        },
        {
          "name": "stderr",
          "output_type": "stream",
          "text": [
            "Landmark occlusion: ffhq-cropped/morphs:  31%|███       | 7745/25012 [31:09<1:27:05,  3.30it/s]"
          ]
        },
        {
          "name": "stdout",
          "output_type": "stream",
          "text": [
            "No face detected in landmark-combined/26569_24383.png. Skipping.\n"
          ]
        },
        {
          "name": "stderr",
          "output_type": "stream",
          "text": [
            "Landmark occlusion: ffhq-cropped/morphs:  31%|███       | 7770/25012 [31:18<1:22:31,  3.48it/s]"
          ]
        },
        {
          "name": "stdout",
          "output_type": "stream",
          "text": [
            "No face detected in landmark-combined/40925_25799.png. Skipping.\n"
          ]
        },
        {
          "name": "stderr",
          "output_type": "stream",
          "text": [
            "Landmark occlusion: ffhq-cropped/morphs:  31%|███       | 7780/25012 [31:21<1:17:59,  3.68it/s]"
          ]
        },
        {
          "name": "stdout",
          "output_type": "stream",
          "text": [
            "No face detected in landmark-combined/43581_63840.png. Skipping.\n"
          ]
        },
        {
          "name": "stderr",
          "output_type": "stream",
          "text": [
            "Landmark occlusion: ffhq-cropped/morphs:  31%|███       | 7816/25012 [31:35<2:23:14,  2.00it/s]"
          ]
        },
        {
          "name": "stdout",
          "output_type": "stream",
          "text": [
            "No face detected in landmark-combined/61113_65935.png. Skipping.\n"
          ]
        },
        {
          "name": "stderr",
          "output_type": "stream",
          "text": [
            "Landmark occlusion: ffhq-cropped/morphs:  32%|███▏      | 7939/25012 [32:18<1:40:25,  2.83it/s]"
          ]
        },
        {
          "name": "stdout",
          "output_type": "stream",
          "text": [
            "No face detected in landmark-combined/17802_66363.png. Skipping.\n"
          ]
        },
        {
          "name": "stderr",
          "output_type": "stream",
          "text": [
            "Landmark occlusion: ffhq-cropped/morphs:  32%|███▏      | 7968/25012 [32:34<1:48:20,  2.62it/s]"
          ]
        },
        {
          "name": "stdout",
          "output_type": "stream",
          "text": [
            "No face detected in landmark-combined/58498_51393.png. Skipping.\n"
          ]
        },
        {
          "name": "stderr",
          "output_type": "stream",
          "text": [
            "Landmark occlusion: ffhq-cropped/morphs:  32%|███▏      | 7990/25012 [32:45<2:02:39,  2.31it/s]"
          ]
        },
        {
          "name": "stdout",
          "output_type": "stream",
          "text": [
            "No face detected in landmark-combined/38333_11907.png. Skipping.\n"
          ]
        },
        {
          "name": "stderr",
          "output_type": "stream",
          "text": [
            "Landmark occlusion: ffhq-cropped/morphs:  32%|███▏      | 8008/25012 [32:51<1:25:53,  3.30it/s]"
          ]
        },
        {
          "name": "stdout",
          "output_type": "stream",
          "text": [
            "No face detected in landmark-combined/60441_07347.png. Skipping.\n"
          ]
        },
        {
          "name": "stderr",
          "output_type": "stream",
          "text": [
            "Landmark occlusion: ffhq-cropped/morphs:  32%|███▏      | 8010/25012 [32:52<1:29:53,  3.15it/s]"
          ]
        },
        {
          "name": "stdout",
          "output_type": "stream",
          "text": [
            "No face detected in landmark-combined/27467_06975.png. Skipping.\n"
          ]
        },
        {
          "name": "stderr",
          "output_type": "stream",
          "text": [
            "Landmark occlusion: ffhq-cropped/morphs:  32%|███▏      | 8016/25012 [32:56<2:46:15,  1.70it/s]"
          ]
        },
        {
          "name": "stdout",
          "output_type": "stream",
          "text": [
            "No face detected in landmark-combined/68999_05735.png. Skipping.\n"
          ]
        },
        {
          "name": "stderr",
          "output_type": "stream",
          "text": [
            "Landmark occlusion: ffhq-cropped/morphs:  32%|███▏      | 8056/25012 [33:15<1:49:47,  2.57it/s]"
          ]
        },
        {
          "name": "stdout",
          "output_type": "stream",
          "text": [
            "No face detected in landmark-combined/09454_12581.png. Skipping.\n"
          ]
        },
        {
          "name": "stderr",
          "output_type": "stream",
          "text": [
            "Landmark occlusion: ffhq-cropped/morphs:  32%|███▏      | 8116/25012 [33:38<1:28:25,  3.18it/s]"
          ]
        },
        {
          "name": "stdout",
          "output_type": "stream",
          "text": [
            "No face detected in landmark-combined/33625_37699.png. Skipping.\n"
          ]
        },
        {
          "name": "stderr",
          "output_type": "stream",
          "text": [
            "Landmark occlusion: ffhq-cropped/morphs:  33%|███▎      | 8159/25012 [33:53<1:17:48,  3.61it/s]"
          ]
        },
        {
          "name": "stdout",
          "output_type": "stream",
          "text": [
            "No face detected in landmark-combined/40261_12195.png. Skipping.\n"
          ]
        },
        {
          "name": "stderr",
          "output_type": "stream",
          "text": [
            "Landmark occlusion: ffhq-cropped/morphs:  33%|███▎      | 8206/25012 [34:11<1:34:06,  2.98it/s]"
          ]
        },
        {
          "name": "stdout",
          "output_type": "stream",
          "text": [
            "No face detected in landmark-combined/36764_68036.png. Skipping.\n"
          ]
        },
        {
          "name": "stderr",
          "output_type": "stream",
          "text": [
            "Landmark occlusion: ffhq-cropped/morphs:  33%|███▎      | 8242/25012 [34:27<1:32:54,  3.01it/s]"
          ]
        },
        {
          "name": "stdout",
          "output_type": "stream",
          "text": [
            "No face detected in landmark-combined/06918_28860.png. Skipping.\n"
          ]
        },
        {
          "name": "stderr",
          "output_type": "stream",
          "text": [
            "Landmark occlusion: ffhq-cropped/morphs:  33%|███▎      | 8286/25012 [34:45<1:18:04,  3.57it/s]"
          ]
        },
        {
          "name": "stdout",
          "output_type": "stream",
          "text": [
            "No face detected in landmark-combined/57497_28626.png. Skipping.\n"
          ]
        },
        {
          "name": "stderr",
          "output_type": "stream",
          "text": [
            "Landmark occlusion: ffhq-cropped/morphs:  33%|███▎      | 8297/25012 [34:52<5:55:35,  1.28s/it]"
          ]
        },
        {
          "name": "stdout",
          "output_type": "stream",
          "text": [
            "No face detected in landmark-combined/10789_32899.png. Skipping.\n"
          ]
        },
        {
          "name": "stderr",
          "output_type": "stream",
          "text": [
            "Landmark occlusion: ffhq-cropped/morphs:  33%|███▎      | 8374/25012 [35:20<1:28:02,  3.15it/s]"
          ]
        },
        {
          "name": "stdout",
          "output_type": "stream",
          "text": [
            "No face detected in landmark-combined/40802_03605.png. Skipping.\n"
          ]
        },
        {
          "name": "stderr",
          "output_type": "stream",
          "text": [
            "Landmark occlusion: ffhq-cropped/morphs:  34%|███▎      | 8383/25012 [35:25<1:44:56,  2.64it/s]"
          ]
        },
        {
          "name": "stdout",
          "output_type": "stream",
          "text": [
            "No face detected in landmark-combined/36647_13672.png. Skipping.\n"
          ]
        },
        {
          "name": "stderr",
          "output_type": "stream",
          "text": [
            "Landmark occlusion: ffhq-cropped/morphs:  34%|███▎      | 8409/25012 [35:36<1:15:37,  3.66it/s]"
          ]
        },
        {
          "name": "stdout",
          "output_type": "stream",
          "text": [
            "No face detected in landmark-combined/47853_34750.png. Skipping.\n",
            "No face detected in landmark-combined/33345_16245.png. Skipping.\n"
          ]
        },
        {
          "name": "stderr",
          "output_type": "stream",
          "text": [
            "Landmark occlusion: ffhq-cropped/morphs:  34%|███▎      | 8414/25012 [35:38<1:17:35,  3.57it/s]"
          ]
        },
        {
          "name": "stdout",
          "output_type": "stream",
          "text": [
            "No face detected in landmark-combined/43186_52942.png. Skipping.\n"
          ]
        },
        {
          "name": "stderr",
          "output_type": "stream",
          "text": [
            "Landmark occlusion: ffhq-cropped/morphs:  34%|███▎      | 8428/25012 [35:42<1:22:03,  3.37it/s]"
          ]
        },
        {
          "name": "stdout",
          "output_type": "stream",
          "text": [
            "No face detected in landmark-combined/60454_04022.png. Skipping.\n"
          ]
        },
        {
          "name": "stderr",
          "output_type": "stream",
          "text": [
            "Landmark occlusion: ffhq-cropped/morphs:  34%|███▎      | 8441/25012 [35:51<1:29:20,  3.09it/s]"
          ]
        },
        {
          "name": "stdout",
          "output_type": "stream",
          "text": [
            "No face detected in landmark-combined/48757_35382.png. Skipping.\n"
          ]
        },
        {
          "name": "stderr",
          "output_type": "stream",
          "text": [
            "Landmark occlusion: ffhq-cropped/morphs:  34%|███▍      | 8445/25012 [35:52<1:20:43,  3.42it/s]"
          ]
        },
        {
          "name": "stdout",
          "output_type": "stream",
          "text": [
            "No face detected in landmark-combined/36332_02348.png. Skipping.\n"
          ]
        },
        {
          "name": "stderr",
          "output_type": "stream",
          "text": [
            "Landmark occlusion: ffhq-cropped/morphs:  34%|███▍      | 8468/25012 [35:59<1:18:43,  3.50it/s]"
          ]
        },
        {
          "name": "stdout",
          "output_type": "stream",
          "text": [
            "No face detected in landmark-combined/58999_17180.png. Skipping.\n"
          ]
        },
        {
          "name": "stderr",
          "output_type": "stream",
          "text": [
            "Landmark occlusion: ffhq-cropped/morphs:  34%|███▍      | 8495/25012 [36:08<1:31:34,  3.01it/s]"
          ]
        },
        {
          "name": "stdout",
          "output_type": "stream",
          "text": [
            "No face detected in landmark-combined/40391_11537.png. Skipping.\n"
          ]
        },
        {
          "name": "stderr",
          "output_type": "stream",
          "text": [
            "Landmark occlusion: ffhq-cropped/morphs:  34%|███▍      | 8549/25012 [36:28<1:28:20,  3.11it/s]"
          ]
        },
        {
          "name": "stdout",
          "output_type": "stream",
          "text": [
            "No face detected in landmark-combined/23503_25143.png. Skipping.\n"
          ]
        },
        {
          "name": "stderr",
          "output_type": "stream",
          "text": [
            "Landmark occlusion: ffhq-cropped/morphs:  34%|███▍      | 8569/25012 [36:35<1:19:32,  3.45it/s]"
          ]
        },
        {
          "name": "stdout",
          "output_type": "stream",
          "text": [
            "No face detected in landmark-combined/34416_27370.png. Skipping.\n"
          ]
        },
        {
          "name": "stderr",
          "output_type": "stream",
          "text": [
            "Landmark occlusion: ffhq-cropped/morphs:  34%|███▍      | 8594/25012 [36:45<1:18:25,  3.49it/s]"
          ]
        },
        {
          "name": "stdout",
          "output_type": "stream",
          "text": [
            "No face detected in landmark-combined/66285_08471.png. Skipping.\n"
          ]
        },
        {
          "name": "stderr",
          "output_type": "stream",
          "text": [
            "Landmark occlusion: ffhq-cropped/morphs:  35%|███▍      | 8674/25012 [37:24<3:15:14,  1.39it/s]"
          ]
        },
        {
          "name": "stdout",
          "output_type": "stream",
          "text": [
            "No face detected in landmark-combined/45646_31902.png. Skipping.\n"
          ]
        },
        {
          "name": "stderr",
          "output_type": "stream",
          "text": [
            "Landmark occlusion: ffhq-cropped/morphs:  35%|███▍      | 8700/25012 [37:35<1:48:53,  2.50it/s]"
          ]
        },
        {
          "name": "stdout",
          "output_type": "stream",
          "text": [
            "No face detected in landmark-combined/05949_40475.png. Skipping.\n"
          ]
        },
        {
          "name": "stderr",
          "output_type": "stream",
          "text": [
            "Landmark occlusion: ffhq-cropped/morphs:  35%|███▍      | 8703/25012 [37:37<2:16:01,  2.00it/s]"
          ]
        },
        {
          "name": "stdout",
          "output_type": "stream",
          "text": [
            "No face detected in landmark-combined/30436_02477.png. Skipping.\n"
          ]
        },
        {
          "name": "stderr",
          "output_type": "stream",
          "text": [
            "Landmark occlusion: ffhq-cropped/morphs:  35%|███▍      | 8754/25012 [37:58<1:38:35,  2.75it/s]"
          ]
        },
        {
          "name": "stdout",
          "output_type": "stream",
          "text": [
            "No face detected in landmark-combined/67518_39590.png. Skipping.\n"
          ]
        },
        {
          "name": "stderr",
          "output_type": "stream",
          "text": [
            "Landmark occlusion: ffhq-cropped/morphs:  35%|███▌      | 8799/25012 [38:14<1:25:40,  3.15it/s]"
          ]
        },
        {
          "name": "stdout",
          "output_type": "stream",
          "text": [
            "No face detected in landmark-combined/47547_43754.png. Skipping.\n"
          ]
        },
        {
          "name": "stderr",
          "output_type": "stream",
          "text": [
            "Landmark occlusion: ffhq-cropped/morphs:  35%|███▌      | 8824/25012 [38:23<1:45:47,  2.55it/s]"
          ]
        },
        {
          "name": "stdout",
          "output_type": "stream",
          "text": [
            "No face detected in landmark-combined/01085_07049.png. Skipping.\n"
          ]
        },
        {
          "name": "stderr",
          "output_type": "stream",
          "text": [
            "Landmark occlusion: ffhq-cropped/morphs:  35%|███▌      | 8833/25012 [38:28<3:05:46,  1.45it/s]"
          ]
        },
        {
          "name": "stdout",
          "output_type": "stream",
          "text": [
            "No face detected in landmark-combined/64720_55117.png. Skipping.\n"
          ]
        },
        {
          "name": "stderr",
          "output_type": "stream",
          "text": [
            "Landmark occlusion: ffhq-cropped/morphs:  35%|███▌      | 8836/25012 [38:30<2:41:25,  1.67it/s]"
          ]
        },
        {
          "name": "stdout",
          "output_type": "stream",
          "text": [
            "No face detected in landmark-combined/47646_68837.png. Skipping.\n"
          ]
        },
        {
          "name": "stderr",
          "output_type": "stream",
          "text": [
            "Landmark occlusion: ffhq-cropped/morphs:  36%|███▌      | 8943/25012 [39:10<1:18:50,  3.40it/s]"
          ]
        },
        {
          "name": "stdout",
          "output_type": "stream",
          "text": [
            "No face detected in landmark-combined/55332_33142.png. Skipping.\n"
          ]
        },
        {
          "name": "stderr",
          "output_type": "stream",
          "text": [
            "Landmark occlusion: ffhq-cropped/morphs:  36%|███▌      | 8947/25012 [39:11<1:22:46,  3.23it/s]"
          ]
        },
        {
          "name": "stdout",
          "output_type": "stream",
          "text": [
            "No face detected in landmark-combined/12767_08101.png. Skipping.\n"
          ]
        },
        {
          "name": "stderr",
          "output_type": "stream",
          "text": [
            "Landmark occlusion: ffhq-cropped/morphs:  36%|███▌      | 8981/25012 [39:23<1:22:16,  3.25it/s]"
          ]
        },
        {
          "name": "stdout",
          "output_type": "stream",
          "text": [
            "No face detected in landmark-combined/67442_19928.png. Skipping.\n"
          ]
        },
        {
          "name": "stderr",
          "output_type": "stream",
          "text": [
            "Landmark occlusion: ffhq-cropped/morphs:  36%|███▌      | 9025/25012 [39:41<1:34:25,  2.82it/s]"
          ]
        },
        {
          "name": "stdout",
          "output_type": "stream",
          "text": [
            "No face detected in landmark-combined/52129_67927.png. Skipping.\n"
          ]
        },
        {
          "name": "stderr",
          "output_type": "stream",
          "text": [
            "Landmark occlusion: ffhq-cropped/morphs:  36%|███▌      | 9033/25012 [39:44<1:28:17,  3.02it/s]"
          ]
        },
        {
          "name": "stdout",
          "output_type": "stream",
          "text": [
            "No face detected in landmark-combined/17021_50500.png. Skipping.\n"
          ]
        },
        {
          "name": "stderr",
          "output_type": "stream",
          "text": [
            "Landmark occlusion: ffhq-cropped/morphs:  36%|███▌      | 9046/25012 [39:48<1:22:10,  3.24it/s]"
          ]
        },
        {
          "name": "stdout",
          "output_type": "stream",
          "text": [
            "No face detected in landmark-combined/21148_59173.png. Skipping.\n"
          ]
        },
        {
          "name": "stderr",
          "output_type": "stream",
          "text": [
            "Landmark occlusion: ffhq-cropped/morphs:  36%|███▋      | 9119/25012 [40:14<1:17:17,  3.43it/s]"
          ]
        },
        {
          "name": "stdout",
          "output_type": "stream",
          "text": [
            "No face detected in landmark-combined/54155_27232.png. Skipping.\n"
          ]
        },
        {
          "name": "stderr",
          "output_type": "stream",
          "text": [
            "Landmark occlusion: ffhq-cropped/morphs:  36%|███▋      | 9125/25012 [40:16<1:22:56,  3.19it/s]"
          ]
        },
        {
          "name": "stdout",
          "output_type": "stream",
          "text": [
            "No face detected in landmark-combined/45900_61070.png. Skipping.\n"
          ]
        },
        {
          "name": "stderr",
          "output_type": "stream",
          "text": [
            "Landmark occlusion: ffhq-cropped/morphs:  37%|███▋      | 9133/25012 [40:18<1:12:03,  3.67it/s]"
          ]
        },
        {
          "name": "stdout",
          "output_type": "stream",
          "text": [
            "No face detected in landmark-combined/17183_64496.png. Skipping.\n"
          ]
        },
        {
          "name": "stderr",
          "output_type": "stream",
          "text": [
            "Landmark occlusion: ffhq-cropped/morphs:  37%|███▋      | 9145/25012 [40:22<1:19:52,  3.31it/s]"
          ]
        },
        {
          "name": "stdout",
          "output_type": "stream",
          "text": [
            "No face detected in landmark-combined/32773_03814.png. Skipping.\n"
          ]
        },
        {
          "name": "stderr",
          "output_type": "stream",
          "text": [
            "Landmark occlusion: ffhq-cropped/morphs:  37%|███▋      | 9190/25012 [40:39<1:24:47,  3.11it/s]"
          ]
        },
        {
          "name": "stdout",
          "output_type": "stream",
          "text": [
            "No face detected in landmark-combined/02246_54133.png. Skipping.\n"
          ]
        },
        {
          "name": "stderr",
          "output_type": "stream",
          "text": [
            "Landmark occlusion: ffhq-cropped/morphs:  37%|███▋      | 9209/25012 [40:45<1:15:03,  3.51it/s]"
          ]
        },
        {
          "name": "stdout",
          "output_type": "stream",
          "text": [
            "No face detected in landmark-combined/08122_26209.png. Skipping.\n"
          ]
        },
        {
          "name": "stderr",
          "output_type": "stream",
          "text": [
            "Landmark occlusion: ffhq-cropped/morphs:  37%|███▋      | 9213/25012 [40:46<1:15:37,  3.48it/s]"
          ]
        },
        {
          "name": "stdout",
          "output_type": "stream",
          "text": [
            "No face detected in landmark-combined/38761_30959.png. Skipping.\n"
          ]
        },
        {
          "name": "stderr",
          "output_type": "stream",
          "text": [
            "Landmark occlusion: ffhq-cropped/morphs:  37%|███▋      | 9244/25012 [41:02<1:26:03,  3.05it/s]"
          ]
        },
        {
          "name": "stdout",
          "output_type": "stream",
          "text": [
            "No face detected in landmark-combined/42983_07072.png. Skipping.\n"
          ]
        },
        {
          "name": "stderr",
          "output_type": "stream",
          "text": [
            "Landmark occlusion: ffhq-cropped/morphs:  37%|███▋      | 9262/25012 [41:08<1:39:43,  2.63it/s]"
          ]
        },
        {
          "name": "stdout",
          "output_type": "stream",
          "text": [
            "No face detected in landmark-combined/42485_02801.png. Skipping.\n"
          ]
        },
        {
          "name": "stderr",
          "output_type": "stream",
          "text": [
            "Landmark occlusion: ffhq-cropped/morphs:  37%|███▋      | 9270/25012 [41:11<1:17:06,  3.40it/s]"
          ]
        },
        {
          "name": "stdout",
          "output_type": "stream",
          "text": [
            "No face detected in landmark-combined/28369_25359.png. Skipping.\n"
          ]
        },
        {
          "name": "stderr",
          "output_type": "stream",
          "text": [
            "Landmark occlusion: ffhq-cropped/morphs:  37%|███▋      | 9305/25012 [41:25<1:30:33,  2.89it/s]"
          ]
        },
        {
          "name": "stdout",
          "output_type": "stream",
          "text": [
            "No face detected in landmark-combined/36061_30329.png. Skipping.\n"
          ]
        },
        {
          "name": "stderr",
          "output_type": "stream",
          "text": [
            "Landmark occlusion: ffhq-cropped/morphs:  37%|███▋      | 9339/25012 [41:38<1:24:36,  3.09it/s]"
          ]
        },
        {
          "name": "stdout",
          "output_type": "stream",
          "text": [
            "No face detected in landmark-combined/66558_34365.png. Skipping.\n"
          ]
        },
        {
          "name": "stderr",
          "output_type": "stream",
          "text": [
            "Landmark occlusion: ffhq-cropped/morphs:  37%|███▋      | 9341/25012 [41:39<1:18:22,  3.33it/s]"
          ]
        },
        {
          "name": "stdout",
          "output_type": "stream",
          "text": [
            "No face detected in landmark-combined/69838_22308.png. Skipping.\n"
          ]
        },
        {
          "name": "stderr",
          "output_type": "stream",
          "text": [
            "Landmark occlusion: ffhq-cropped/morphs:  37%|███▋      | 9366/25012 [41:52<1:40:13,  2.60it/s]"
          ]
        },
        {
          "name": "stdout",
          "output_type": "stream",
          "text": [
            "No face detected in landmark-combined/17374_15459.png. Skipping.\n"
          ]
        },
        {
          "name": "stderr",
          "output_type": "stream",
          "text": [
            "Landmark occlusion: ffhq-cropped/morphs:  37%|███▋      | 9372/25012 [41:53<1:17:21,  3.37it/s]"
          ]
        },
        {
          "name": "stdout",
          "output_type": "stream",
          "text": [
            "No face detected in landmark-combined/55096_55313.png. Skipping.\n"
          ]
        },
        {
          "name": "stderr",
          "output_type": "stream",
          "text": [
            "Landmark occlusion: ffhq-cropped/morphs:  38%|███▊      | 9419/25012 [42:11<2:23:06,  1.82it/s]"
          ]
        },
        {
          "name": "stdout",
          "output_type": "stream",
          "text": [
            "No face detected in landmark-combined/06043_61007.png. Skipping.\n"
          ]
        },
        {
          "name": "stderr",
          "output_type": "stream",
          "text": [
            "Landmark occlusion: ffhq-cropped/morphs:  38%|███▊      | 9422/25012 [42:12<1:51:22,  2.33it/s]"
          ]
        },
        {
          "name": "stdout",
          "output_type": "stream",
          "text": [
            "No face detected in landmark-combined/65678_54008.png. Skipping.\n"
          ]
        },
        {
          "name": "stderr",
          "output_type": "stream",
          "text": [
            "Landmark occlusion: ffhq-cropped/morphs:  38%|███▊      | 9467/25012 [42:34<2:11:01,  1.98it/s]"
          ]
        },
        {
          "name": "stdout",
          "output_type": "stream",
          "text": [
            "No face detected in landmark-combined/23206_37704.png. Skipping.\n"
          ]
        },
        {
          "name": "stderr",
          "output_type": "stream",
          "text": [
            "Landmark occlusion: ffhq-cropped/morphs:  38%|███▊      | 9513/25012 [42:50<1:29:55,  2.87it/s]"
          ]
        },
        {
          "name": "stdout",
          "output_type": "stream",
          "text": [
            "No face detected in landmark-combined/60728_36153.png. Skipping.\n"
          ]
        },
        {
          "name": "stderr",
          "output_type": "stream",
          "text": [
            "Landmark occlusion: ffhq-cropped/morphs:  38%|███▊      | 9551/25012 [43:05<1:33:27,  2.76it/s]"
          ]
        },
        {
          "name": "stdout",
          "output_type": "stream",
          "text": [
            "No face detected in landmark-combined/41422_54321.png. Skipping.\n"
          ]
        },
        {
          "name": "stderr",
          "output_type": "stream",
          "text": [
            "Landmark occlusion: ffhq-cropped/morphs:  38%|███▊      | 9563/25012 [43:09<1:31:28,  2.81it/s]"
          ]
        },
        {
          "name": "stdout",
          "output_type": "stream",
          "text": [
            "No face detected in landmark-combined/44481_58688.png. Skipping.\n"
          ]
        },
        {
          "name": "stderr",
          "output_type": "stream",
          "text": [
            "Landmark occlusion: ffhq-cropped/morphs:  39%|███▊      | 9639/25012 [43:38<1:36:02,  2.67it/s]"
          ]
        },
        {
          "name": "stdout",
          "output_type": "stream",
          "text": [
            "No face detected in landmark-combined/55892_14165.png. Skipping.\n"
          ]
        },
        {
          "name": "stderr",
          "output_type": "stream",
          "text": [
            "Landmark occlusion: ffhq-cropped/morphs:  39%|███▉      | 9746/25012 [44:15<1:12:31,  3.51it/s]"
          ]
        },
        {
          "name": "stdout",
          "output_type": "stream",
          "text": [
            "No face detected in landmark-combined/07711_62880.png. Skipping.\n"
          ]
        },
        {
          "name": "stderr",
          "output_type": "stream",
          "text": [
            "Landmark occlusion: ffhq-cropped/morphs:  39%|███▉      | 9786/25012 [44:30<1:33:16,  2.72it/s]"
          ]
        },
        {
          "name": "stdout",
          "output_type": "stream",
          "text": [
            "No face detected in landmark-combined/50450_59420.png. Skipping.\n"
          ]
        },
        {
          "name": "stderr",
          "output_type": "stream",
          "text": [
            "Landmark occlusion: ffhq-cropped/morphs:  39%|███▉      | 9798/25012 [44:34<1:20:42,  3.14it/s]"
          ]
        },
        {
          "name": "stdout",
          "output_type": "stream",
          "text": [
            "No face detected in landmark-combined/15897_33072.png. Skipping.\n"
          ]
        },
        {
          "name": "stderr",
          "output_type": "stream",
          "text": [
            "Landmark occlusion: ffhq-cropped/morphs:  39%|███▉      | 9836/25012 [44:47<1:23:54,  3.01it/s]"
          ]
        },
        {
          "name": "stdout",
          "output_type": "stream",
          "text": [
            "No face detected in landmark-combined/00900_37611.png. Skipping.\n"
          ]
        },
        {
          "name": "stderr",
          "output_type": "stream",
          "text": [
            "Landmark occlusion: ffhq-cropped/morphs:  39%|███▉      | 9844/25012 [44:50<1:53:54,  2.22it/s]"
          ]
        },
        {
          "name": "stdout",
          "output_type": "stream",
          "text": [
            "No face detected in landmark-combined/06115_39340.png. Skipping.\n"
          ]
        },
        {
          "name": "stderr",
          "output_type": "stream",
          "text": [
            "Landmark occlusion: ffhq-cropped/morphs:  40%|███▉      | 9917/25012 [45:18<2:15:21,  1.86it/s]"
          ]
        },
        {
          "name": "stdout",
          "output_type": "stream",
          "text": [
            "No face detected in landmark-combined/04689_24867.png. Skipping.\n"
          ]
        },
        {
          "name": "stderr",
          "output_type": "stream",
          "text": [
            "Landmark occlusion: ffhq-cropped/morphs:  40%|███▉      | 9968/25012 [45:37<1:11:22,  3.51it/s]"
          ]
        },
        {
          "name": "stdout",
          "output_type": "stream",
          "text": [
            "No face detected in landmark-combined/00601_02965.png. Skipping.\n"
          ]
        },
        {
          "name": "stderr",
          "output_type": "stream",
          "text": [
            "Landmark occlusion: ffhq-cropped/morphs:  40%|████      | 10049/25012 [46:07<1:35:44,  2.60it/s]"
          ]
        },
        {
          "name": "stdout",
          "output_type": "stream",
          "text": [
            "No face detected in landmark-complete/67916_51654.png. Skipping.\n"
          ]
        },
        {
          "name": "stderr",
          "output_type": "stream",
          "text": [
            "Landmark occlusion: ffhq-cropped/morphs:  40%|████      | 10080/25012 [46:18<1:23:11,  2.99it/s]"
          ]
        },
        {
          "name": "stdout",
          "output_type": "stream",
          "text": [
            "No face detected in landmark-complete/22197_65316.png. Skipping.\n"
          ]
        },
        {
          "name": "stderr",
          "output_type": "stream",
          "text": [
            "Landmark occlusion: ffhq-cropped/morphs:  41%|████      | 10162/25012 [46:49<1:14:00,  3.34it/s]"
          ]
        },
        {
          "name": "stdout",
          "output_type": "stream",
          "text": [
            "No face detected in landmark-complete/29831_27965.png. Skipping.\n"
          ]
        },
        {
          "name": "stderr",
          "output_type": "stream",
          "text": [
            "Landmark occlusion: ffhq-cropped/morphs:  41%|████      | 10261/25012 [47:33<1:11:33,  3.44it/s]"
          ]
        },
        {
          "name": "stdout",
          "output_type": "stream",
          "text": [
            "No face detected in landmark-complete/09824_08939.png. Skipping.\n"
          ]
        },
        {
          "name": "stderr",
          "output_type": "stream",
          "text": [
            "Landmark occlusion: ffhq-cropped/morphs:  41%|████      | 10271/25012 [47:37<1:38:41,  2.49it/s]"
          ]
        },
        {
          "name": "stdout",
          "output_type": "stream",
          "text": [
            "No face detected in landmark-complete/53670_12685.png. Skipping.\n"
          ]
        },
        {
          "name": "stderr",
          "output_type": "stream",
          "text": [
            "Landmark occlusion: ffhq-cropped/morphs:  42%|████▏     | 10393/25012 [48:24<1:09:26,  3.51it/s]"
          ]
        },
        {
          "name": "stdout",
          "output_type": "stream",
          "text": [
            "No face detected in landmark-complete/52724_57678.png. Skipping.\n"
          ]
        },
        {
          "name": "stderr",
          "output_type": "stream",
          "text": [
            "Landmark occlusion: ffhq-cropped/morphs:  42%|████▏     | 10444/25012 [48:45<1:27:22,  2.78it/s]"
          ]
        },
        {
          "name": "stdout",
          "output_type": "stream",
          "text": [
            "No face detected in landmark-complete/15591_11402.png. Skipping.\n"
          ]
        },
        {
          "name": "stderr",
          "output_type": "stream",
          "text": [
            "Landmark occlusion: ffhq-cropped/morphs:  42%|████▏     | 10464/25012 [48:53<1:37:25,  2.49it/s]"
          ]
        },
        {
          "name": "stdout",
          "output_type": "stream",
          "text": [
            "No face detected in landmark-complete/15945_50991.png. Skipping.\n"
          ]
        },
        {
          "name": "stderr",
          "output_type": "stream",
          "text": [
            "Landmark occlusion: ffhq-cropped/morphs:  43%|████▎     | 10654/25012 [50:08<2:22:40,  1.68it/s]"
          ]
        },
        {
          "name": "stdout",
          "output_type": "stream",
          "text": [
            "No face detected in landmark-complete/47593_28814.png. Skipping.\n"
          ]
        },
        {
          "name": "stderr",
          "output_type": "stream",
          "text": [
            "Landmark occlusion: ffhq-cropped/morphs:  43%|████▎     | 10683/25012 [50:24<4:58:35,  1.25s/it]"
          ]
        },
        {
          "name": "stdout",
          "output_type": "stream",
          "text": [
            "No face detected in landmark-complete/44684_38976.png. Skipping.\n"
          ]
        },
        {
          "name": "stderr",
          "output_type": "stream",
          "text": [
            "Landmark occlusion: ffhq-cropped/morphs:  43%|████▎     | 10696/25012 [50:30<1:52:58,  2.11it/s]"
          ]
        },
        {
          "name": "stdout",
          "output_type": "stream",
          "text": [
            "No face detected in landmark-complete/58386_14027.png. Skipping.\n"
          ]
        },
        {
          "name": "stderr",
          "output_type": "stream",
          "text": [
            "Landmark occlusion: ffhq-cropped/morphs:  43%|████▎     | 10756/25012 [50:53<1:03:13,  3.76it/s]"
          ]
        },
        {
          "name": "stdout",
          "output_type": "stream",
          "text": [
            "No face detected in landmark-complete/33913_33164.png. Skipping.\n"
          ]
        },
        {
          "name": "stderr",
          "output_type": "stream",
          "text": [
            "Landmark occlusion: ffhq-cropped/morphs:  43%|████▎     | 10792/25012 [51:07<1:30:04,  2.63it/s]"
          ]
        },
        {
          "name": "stdout",
          "output_type": "stream",
          "text": [
            "No face detected in landmark-complete/55837_28072.png. Skipping.\n"
          ]
        },
        {
          "name": "stderr",
          "output_type": "stream",
          "text": [
            "Landmark occlusion: ffhq-cropped/morphs:  43%|████▎     | 10869/25012 [51:41<1:45:30,  2.23it/s]"
          ]
        },
        {
          "name": "stdout",
          "output_type": "stream",
          "text": [
            "No face detected in landmark-complete/00202_34541.png. Skipping.\n"
          ]
        },
        {
          "name": "stderr",
          "output_type": "stream",
          "text": [
            "Landmark occlusion: ffhq-cropped/morphs:  44%|████▎     | 10920/25012 [52:00<2:18:03,  1.70it/s]"
          ]
        },
        {
          "name": "stdout",
          "output_type": "stream",
          "text": [
            "No face detected in landmark-complete/38115_44013.png. Skipping.\n"
          ]
        },
        {
          "name": "stderr",
          "output_type": "stream",
          "text": [
            "Landmark occlusion: ffhq-cropped/morphs:  44%|████▍     | 11034/25012 [52:46<1:15:27,  3.09it/s]"
          ]
        },
        {
          "name": "stdout",
          "output_type": "stream",
          "text": [
            "No face detected in landmark-complete/23650_45839.png. Skipping.\n"
          ]
        },
        {
          "name": "stderr",
          "output_type": "stream",
          "text": [
            "Landmark occlusion: ffhq-cropped/morphs:  44%|████▍     | 11048/25012 [52:50<1:14:46,  3.11it/s]"
          ]
        },
        {
          "name": "stdout",
          "output_type": "stream",
          "text": [
            "No face detected in landmark-complete/67759_59510.png. Skipping.\n"
          ]
        },
        {
          "name": "stderr",
          "output_type": "stream",
          "text": [
            "Landmark occlusion: ffhq-cropped/morphs:  44%|████▍     | 11053/25012 [52:53<1:45:09,  2.21it/s]"
          ]
        },
        {
          "name": "stdout",
          "output_type": "stream",
          "text": [
            "No face detected in landmark-complete/12023_30678.png. Skipping.\n"
          ]
        },
        {
          "name": "stderr",
          "output_type": "stream",
          "text": [
            "Landmark occlusion: ffhq-cropped/morphs:  45%|████▍     | 11199/25012 [53:49<1:08:41,  3.35it/s]"
          ]
        },
        {
          "name": "stdout",
          "output_type": "stream",
          "text": [
            "No face detected in landmark-complete/62675_50614.png. Skipping.\n"
          ]
        },
        {
          "name": "stderr",
          "output_type": "stream",
          "text": [
            "Landmark occlusion: ffhq-cropped/morphs:  45%|████▍     | 11202/25012 [53:50<1:11:44,  3.21it/s]"
          ]
        },
        {
          "name": "stdout",
          "output_type": "stream",
          "text": [
            "No face detected in landmark-complete/19246_17668.png. Skipping.\n"
          ]
        },
        {
          "name": "stderr",
          "output_type": "stream",
          "text": [
            "Landmark occlusion: ffhq-cropped/morphs:  45%|████▍     | 11242/25012 [54:05<1:09:21,  3.31it/s]"
          ]
        },
        {
          "name": "stdout",
          "output_type": "stream",
          "text": [
            "No face detected in landmark-complete/55629_03914.png. Skipping.\n"
          ]
        },
        {
          "name": "stderr",
          "output_type": "stream",
          "text": [
            "Landmark occlusion: ffhq-cropped/morphs:  46%|████▌     | 11416/25012 [55:19<1:12:04,  3.14it/s]"
          ]
        },
        {
          "name": "stdout",
          "output_type": "stream",
          "text": [
            "No face detected in landmark-complete/68944_25410.png. Skipping.\n"
          ]
        },
        {
          "name": "stderr",
          "output_type": "stream",
          "text": [
            "Landmark occlusion: ffhq-cropped/morphs:  46%|████▋     | 11624/25012 [56:49<1:20:29,  2.77it/s]"
          ]
        },
        {
          "name": "stdout",
          "output_type": "stream",
          "text": [
            "No face detected in landmark-complete/00384_20036.png. Skipping.\n"
          ]
        },
        {
          "name": "stderr",
          "output_type": "stream",
          "text": [
            "Landmark occlusion: ffhq-cropped/morphs:  47%|████▋     | 11680/25012 [57:12<1:43:57,  2.14it/s]"
          ]
        },
        {
          "name": "stdout",
          "output_type": "stream",
          "text": [
            "No face detected in landmark-complete/47621_52338.png. Skipping.\n"
          ]
        },
        {
          "name": "stderr",
          "output_type": "stream",
          "text": [
            "Landmark occlusion: ffhq-cropped/morphs:  47%|████▋     | 11880/25012 [58:37<1:00:31,  3.62it/s]"
          ]
        },
        {
          "name": "stdout",
          "output_type": "stream",
          "text": [
            "No face detected in landmark-complete/19710_54992.png. Skipping.\n"
          ]
        },
        {
          "name": "stderr",
          "output_type": "stream",
          "text": [
            "Landmark occlusion: ffhq-cropped/morphs:  48%|████▊     | 11898/25012 [58:43<1:04:19,  3.40it/s]"
          ]
        },
        {
          "name": "stdout",
          "output_type": "stream",
          "text": [
            "No face detected in landmark-complete/63146_16041.png. Skipping.\n"
          ]
        },
        {
          "name": "stderr",
          "output_type": "stream",
          "text": [
            "Landmark occlusion: ffhq-cropped/morphs:  48%|████▊     | 12027/25012 [59:31<1:04:52,  3.34it/s]"
          ]
        },
        {
          "name": "stdout",
          "output_type": "stream",
          "text": [
            "No face detected in landmark-complete/48955_49803.png. Skipping.\n"
          ]
        },
        {
          "name": "stderr",
          "output_type": "stream",
          "text": [
            "Landmark occlusion: ffhq-cropped/morphs:  48%|████▊     | 12033/25012 [59:33<1:16:51,  2.81it/s]"
          ]
        },
        {
          "name": "stdout",
          "output_type": "stream",
          "text": [
            "No face detected in landmark-complete/58807_28950.png. Skipping.\n"
          ]
        },
        {
          "name": "stderr",
          "output_type": "stream",
          "text": [
            "Landmark occlusion: ffhq-cropped/morphs:  48%|████▊     | 12068/25012 [59:48<1:01:19,  3.52it/s]"
          ]
        },
        {
          "name": "stdout",
          "output_type": "stream",
          "text": [
            "No face detected in landmark-complete/31432_32451.png. Skipping.\n"
          ]
        },
        {
          "name": "stderr",
          "output_type": "stream",
          "text": [
            "Landmark occlusion: ffhq-cropped/morphs:  50%|████▉     | 12456/25012 [1:02:14<1:25:35,  2.45it/s]"
          ]
        },
        {
          "name": "stdout",
          "output_type": "stream",
          "text": [
            "No face detected in landmark-complete/04543_64297.png. Skipping.\n"
          ]
        },
        {
          "name": "stderr",
          "output_type": "stream",
          "text": [
            "Landmark occlusion: ffhq-cropped/morphs:  50%|█████     | 12507/25012 [1:02:49<1:01:42,  3.38it/s]"
          ]
        },
        {
          "name": "stdout",
          "output_type": "stream",
          "text": [
            "No face detected in landmark-complete/43581_63840.png. Skipping.\n"
          ]
        },
        {
          "name": "stderr",
          "output_type": "stream",
          "text": [
            "Landmark occlusion: ffhq-cropped/morphs:  50%|█████     | 12615/25012 [1:03:29<1:48:23,  1.91it/s]"
          ]
        },
        {
          "name": "stdout",
          "output_type": "stream",
          "text": [
            "No face detected in landmark-complete/53852_61605.png. Skipping.\n"
          ]
        },
        {
          "name": "stderr",
          "output_type": "stream",
          "text": [
            "Landmark occlusion: ffhq-cropped/morphs:  51%|█████     | 12715/25012 [1:04:12<1:06:54,  3.06it/s]"
          ]
        },
        {
          "name": "stdout",
          "output_type": "stream",
          "text": [
            "No face detected in landmark-complete/05394_37085.png. Skipping.\n"
          ]
        },
        {
          "name": "stderr",
          "output_type": "stream",
          "text": [
            "Landmark occlusion: ffhq-cropped/morphs:  51%|█████     | 12798/25012 [1:04:41<1:11:25,  2.85it/s]"
          ]
        },
        {
          "name": "stdout",
          "output_type": "stream",
          "text": [
            "No face detected in landmark-complete/40925_25799.png. Skipping.\n"
          ]
        },
        {
          "name": "stderr",
          "output_type": "stream",
          "text": [
            "Landmark occlusion: ffhq-cropped/morphs:  51%|█████▏    | 12857/25012 [1:05:06<1:34:15,  2.15it/s]"
          ]
        },
        {
          "name": "stdout",
          "output_type": "stream",
          "text": [
            "No face detected in landmark-complete/44395_44349.png. Skipping.\n"
          ]
        },
        {
          "name": "stderr",
          "output_type": "stream",
          "text": [
            "Landmark occlusion: ffhq-cropped/morphs:  51%|█████▏    | 12866/25012 [1:05:38<29:50:24,  8.84s/it]"
          ]
        },
        {
          "name": "stdout",
          "output_type": "stream",
          "text": [
            "No face detected in landmark-complete/40261_12195.png. Skipping.\n"
          ]
        },
        {
          "name": "stderr",
          "output_type": "stream",
          "text": [
            "Landmark occlusion: ffhq-cropped/morphs:  51%|█████▏    | 12872/25012 [1:05:40<4:32:40,  1.35s/it]"
          ]
        },
        {
          "name": "stdout",
          "output_type": "stream",
          "text": [
            "No face detected in landmark-complete/29389_47686.png. Skipping.\n"
          ]
        },
        {
          "name": "stderr",
          "output_type": "stream",
          "text": [
            "Landmark occlusion: ffhq-cropped/morphs:  52%|█████▏    | 12924/25012 [1:05:59<1:28:43,  2.27it/s]"
          ]
        },
        {
          "name": "stdout",
          "output_type": "stream",
          "text": [
            "No face detected in landmark-complete/61113_65935.png. Skipping.\n"
          ]
        },
        {
          "name": "stderr",
          "output_type": "stream",
          "text": [
            "Landmark occlusion: ffhq-cropped/morphs:  52%|█████▏    | 13065/25012 [1:06:52<52:13,  3.81it/s]"
          ]
        },
        {
          "name": "stdout",
          "output_type": "stream",
          "text": [
            "No face detected in landmark-complete/44233_35428.png. Skipping.\n"
          ]
        },
        {
          "name": "stderr",
          "output_type": "stream",
          "text": [
            "Landmark occlusion: ffhq-cropped/morphs:  52%|█████▏    | 13071/25012 [1:06:54<1:21:18,  2.45it/s]"
          ]
        },
        {
          "name": "stdout",
          "output_type": "stream",
          "text": [
            "No face detected in landmark-complete/47853_34750.png. Skipping.\n"
          ]
        },
        {
          "name": "stderr",
          "output_type": "stream",
          "text": [
            "Landmark occlusion: ffhq-cropped/morphs:  53%|█████▎    | 13201/25012 [1:07:46<1:37:54,  2.01it/s]"
          ]
        },
        {
          "name": "stdout",
          "output_type": "stream",
          "text": [
            "No face detected in landmark-complete/30436_02477.png. Skipping.\n"
          ]
        },
        {
          "name": "stderr",
          "output_type": "stream",
          "text": [
            "Landmark occlusion: ffhq-cropped/morphs:  53%|█████▎    | 13219/25012 [1:08:00<1:07:12,  2.92it/s]"
          ]
        },
        {
          "name": "stdout",
          "output_type": "stream",
          "text": [
            "No face detected in landmark-complete/57497_28626.png. Skipping.\n"
          ]
        },
        {
          "name": "stderr",
          "output_type": "stream",
          "text": [
            "Landmark occlusion: ffhq-cropped/morphs:  53%|█████▎    | 13324/25012 [1:08:41<1:18:59,  2.47it/s]"
          ]
        },
        {
          "name": "stdout",
          "output_type": "stream",
          "text": [
            "No face detected in landmark-complete/68999_05735.png. Skipping.\n"
          ]
        },
        {
          "name": "stderr",
          "output_type": "stream",
          "text": [
            "Landmark occlusion: ffhq-cropped/morphs:  54%|█████▍    | 13556/25012 [1:10:17<1:08:02,  2.81it/s]"
          ]
        },
        {
          "name": "stdout",
          "output_type": "stream",
          "text": [
            "No face detected in landmark-complete/33345_16245.png. Skipping.\n"
          ]
        },
        {
          "name": "stderr",
          "output_type": "stream",
          "text": [
            "Landmark occlusion: ffhq-cropped/morphs:  54%|█████▍    | 13578/25012 [1:10:28<1:29:48,  2.12it/s]"
          ]
        },
        {
          "name": "stdout",
          "output_type": "stream",
          "text": [
            "No face detected in landmark-complete/47547_43754.png. Skipping.\n"
          ]
        },
        {
          "name": "stderr",
          "output_type": "stream",
          "text": [
            "Landmark occlusion: ffhq-cropped/morphs:  54%|█████▍    | 13596/25012 [1:10:36<1:07:08,  2.83it/s]"
          ]
        },
        {
          "name": "stdout",
          "output_type": "stream",
          "text": [
            "No face detected in landmark-complete/27092_24158.png. Skipping.\n"
          ]
        },
        {
          "name": "stderr",
          "output_type": "stream",
          "text": [
            "Landmark occlusion: ffhq-cropped/morphs:  55%|█████▍    | 13657/25012 [1:10:57<1:01:32,  3.08it/s]"
          ]
        },
        {
          "name": "stdout",
          "output_type": "stream",
          "text": [
            "No face detected in landmark-complete/49114_66303.png. Skipping.\n"
          ]
        },
        {
          "name": "stderr",
          "output_type": "stream",
          "text": [
            "Landmark occlusion: ffhq-cropped/morphs:  55%|█████▍    | 13753/25012 [1:11:36<1:07:13,  2.79it/s]"
          ]
        },
        {
          "name": "stdout",
          "output_type": "stream",
          "text": [
            "No face detected in landmark-complete/28907_32719.png. Skipping.\n"
          ]
        },
        {
          "name": "stderr",
          "output_type": "stream",
          "text": [
            "Landmark occlusion: ffhq-cropped/morphs:  55%|█████▌    | 13774/25012 [1:11:44<58:04,  3.23it/s]  "
          ]
        },
        {
          "name": "stdout",
          "output_type": "stream",
          "text": [
            "No face detected in landmark-complete/17148_02470.png. Skipping.\n"
          ]
        },
        {
          "name": "stderr",
          "output_type": "stream",
          "text": [
            "Landmark occlusion: ffhq-cropped/morphs:  55%|█████▌    | 13807/25012 [1:11:56<1:00:39,  3.08it/s]"
          ]
        },
        {
          "name": "stdout",
          "output_type": "stream",
          "text": [
            "No face detected in landmark-complete/17021_50500.png. Skipping.\n"
          ]
        },
        {
          "name": "stderr",
          "output_type": "stream",
          "text": [
            "Landmark occlusion: ffhq-cropped/morphs:  55%|█████▌    | 13818/25012 [1:11:59<1:01:31,  3.03it/s]"
          ]
        },
        {
          "name": "stdout",
          "output_type": "stream",
          "text": [
            "No face detected in landmark-complete/17781_28893.png. Skipping.\n"
          ]
        },
        {
          "name": "stderr",
          "output_type": "stream",
          "text": [
            "Landmark occlusion: ffhq-cropped/morphs:  55%|█████▌    | 13827/25012 [1:12:03<1:04:33,  2.89it/s]"
          ]
        },
        {
          "name": "stdout",
          "output_type": "stream",
          "text": [
            "No face detected in landmark-complete/09037_12869.png. Skipping.\n"
          ]
        },
        {
          "name": "stderr",
          "output_type": "stream",
          "text": [
            "Landmark occlusion: ffhq-cropped/morphs:  55%|█████▌    | 13837/25012 [1:12:07<1:04:18,  2.90it/s]"
          ]
        },
        {
          "name": "stdout",
          "output_type": "stream",
          "text": [
            "No face detected in landmark-complete/07427_00653.png. Skipping.\n"
          ]
        },
        {
          "name": "stderr",
          "output_type": "stream",
          "text": [
            "Landmark occlusion: ffhq-cropped/morphs:  56%|█████▌    | 13900/25012 [1:12:30<1:01:28,  3.01it/s]"
          ]
        },
        {
          "name": "stdout",
          "output_type": "stream",
          "text": [
            "No face detected in landmark-complete/55096_55313.png. Skipping.\n"
          ]
        },
        {
          "name": "stderr",
          "output_type": "stream",
          "text": [
            "Landmark occlusion: ffhq-cropped/morphs:  56%|█████▌    | 13972/25012 [1:12:58<51:55,  3.54it/s]"
          ]
        },
        {
          "name": "stdout",
          "output_type": "stream",
          "text": [
            "No face detected in landmark-complete/21148_59173.png. Skipping.\n"
          ]
        },
        {
          "name": "stderr",
          "output_type": "stream",
          "text": [
            "Landmark occlusion: ffhq-cropped/morphs:  56%|█████▌    | 14018/25012 [1:13:16<1:12:19,  2.53it/s]"
          ]
        },
        {
          "name": "stdout",
          "output_type": "stream",
          "text": [
            "No face detected in landmark-complete/58999_17180.png. Skipping.\n"
          ]
        },
        {
          "name": "stderr",
          "output_type": "stream",
          "text": [
            "Landmark occlusion: ffhq-cropped/morphs:  56%|█████▌    | 14064/25012 [1:13:32<52:20,  3.49it/s]"
          ]
        },
        {
          "name": "stdout",
          "output_type": "stream",
          "text": [
            "No face detected in landmark-complete/55332_33142.png. Skipping.\n"
          ]
        },
        {
          "name": "stderr",
          "output_type": "stream",
          "text": [
            "Landmark occlusion: ffhq-cropped/morphs:  57%|█████▋    | 14133/25012 [1:13:58<1:09:52,  2.59it/s]"
          ]
        },
        {
          "name": "stdout",
          "output_type": "stream",
          "text": [
            "No face detected in landmark-complete/28369_25359.png. Skipping.\n"
          ]
        },
        {
          "name": "stderr",
          "output_type": "stream",
          "text": [
            "Landmark occlusion: ffhq-cropped/morphs:  57%|█████▋    | 14321/25012 [1:15:42<56:21,  3.16it/s]"
          ]
        },
        {
          "name": "stdout",
          "output_type": "stream",
          "text": [
            "No face detected in landmark-complete/44481_58688.png. Skipping.\n"
          ]
        },
        {
          "name": "stderr",
          "output_type": "stream",
          "text": [
            "Landmark occlusion: ffhq-cropped/morphs:  59%|█████▊    | 14670/25012 [1:17:55<55:20,  3.11it/s]  "
          ]
        },
        {
          "name": "stdout",
          "output_type": "stream",
          "text": [
            "No face detected in landmark-complete/06043_61007.png. Skipping.\n"
          ]
        },
        {
          "name": "stderr",
          "output_type": "stream",
          "text": [
            "Landmark occlusion: ffhq-cropped/morphs:  59%|█████▊    | 14689/25012 [1:18:06<1:33:41,  1.84it/s]"
          ]
        },
        {
          "name": "stdout",
          "output_type": "stream",
          "text": [
            "No face detected in landmark-complete/66558_34365.png. Skipping.\n"
          ]
        },
        {
          "name": "stderr",
          "output_type": "stream",
          "text": [
            "Landmark occlusion: ffhq-cropped/morphs:  59%|█████▉    | 14733/25012 [1:18:20<54:43,  3.13it/s]"
          ]
        },
        {
          "name": "stdout",
          "output_type": "stream",
          "text": [
            "No face detected in landmark-complete/06253_52635.png. Skipping.\n"
          ]
        },
        {
          "name": "stderr",
          "output_type": "stream",
          "text": [
            "\rLandmark occlusion: ffhq-cropped/morphs:  59%|█████▉    | 14734/25012 [1:18:20<49:33,  3.46it/s]"
          ]
        },
        {
          "name": "stdout",
          "output_type": "stream",
          "text": [
            "No face detected in landmark-complete/06115_39340.png. Skipping.\n"
          ]
        },
        {
          "name": "stderr",
          "output_type": "stream",
          "text": [
            "Landmark occlusion: ffhq-cropped/morphs:  60%|█████▉    | 14970/25012 [1:19:48<1:03:03,  2.65it/s]"
          ]
        },
        {
          "name": "stdout",
          "output_type": "stream",
          "text": [
            "No face detected in landmark-complete/38761_30959.png. Skipping.\n"
          ]
        },
        {
          "name": "stderr",
          "output_type": "stream",
          "text": [
            "Landmark occlusion: ffhq-cropped/morphs:  60%|██████    | 15010/25012 [1:20:06<1:34:31,  1.76it/s]"
          ]
        },
        {
          "name": "stdout",
          "output_type": "stream",
          "text": [
            "No face detected in stylegan-interp-W/21787_55713.png. Skipping.\n"
          ]
        },
        {
          "name": "stderr",
          "output_type": "stream",
          "text": [
            "Landmark occlusion: ffhq-cropped/morphs:  61%|██████    | 15203/25012 [1:22:32<1:45:10,  1.55it/s]"
          ]
        },
        {
          "name": "stdout",
          "output_type": "stream",
          "text": [
            "No face detected in stylegan-interp-W/09824_08939.png. Skipping.\n"
          ]
        },
        {
          "name": "stderr",
          "output_type": "stream",
          "text": [
            "Landmark occlusion: ffhq-cropped/morphs:  61%|██████    | 15211/25012 [1:22:38<1:56:06,  1.41it/s]"
          ]
        },
        {
          "name": "stdout",
          "output_type": "stream",
          "text": [
            "No face detected in stylegan-interp-W/69466_13485.png. Skipping.\n"
          ]
        },
        {
          "name": "stderr",
          "output_type": "stream",
          "text": [
            "Landmark occlusion: ffhq-cropped/morphs:  61%|██████    | 15223/25012 [1:22:46<1:23:25,  1.96it/s]"
          ]
        },
        {
          "name": "stdout",
          "output_type": "stream",
          "text": [
            "No face detected in stylegan-interp-W/40500_24471.png. Skipping.\n"
          ]
        },
        {
          "name": "stderr",
          "output_type": "stream",
          "text": [
            "Landmark occlusion: ffhq-cropped/morphs:  61%|██████    | 15294/25012 [1:23:35<1:54:21,  1.42it/s]"
          ]
        },
        {
          "name": "stdout",
          "output_type": "stream",
          "text": [
            "No face detected in stylegan-interp-W/52724_57678.png. Skipping.\n"
          ]
        },
        {
          "name": "stderr",
          "output_type": "stream",
          "text": [
            "Landmark occlusion: ffhq-cropped/morphs:  61%|██████    | 15313/25012 [1:23:47<1:25:14,  1.90it/s]"
          ]
        },
        {
          "name": "stdout",
          "output_type": "stream",
          "text": [
            "No face detected in stylegan-interp-W/48265_43454.png. Skipping.\n"
          ]
        },
        {
          "name": "stderr",
          "output_type": "stream",
          "text": [
            "Landmark occlusion: ffhq-cropped/morphs:  61%|██████▏   | 15350/25012 [1:24:11<1:23:00,  1.94it/s]"
          ]
        },
        {
          "name": "stdout",
          "output_type": "stream",
          "text": [
            "No face detected in stylegan-interp-W/33268_65648.png. Skipping.\n"
          ]
        },
        {
          "name": "stderr",
          "output_type": "stream",
          "text": [
            "Landmark occlusion: ffhq-cropped/morphs:  62%|██████▏   | 15430/25012 [1:25:08<2:02:11,  1.31it/s]"
          ]
        },
        {
          "name": "stdout",
          "output_type": "stream",
          "text": [
            "No face detected in stylegan-interp-W/08527_61038.png. Skipping.\n"
          ]
        },
        {
          "name": "stderr",
          "output_type": "stream",
          "text": [
            "Landmark occlusion: ffhq-cropped/morphs:  62%|██████▏   | 15435/25012 [1:25:11<1:38:27,  1.62it/s]"
          ]
        },
        {
          "name": "stdout",
          "output_type": "stream",
          "text": [
            "No face detected in stylegan-interp-W/53670_12685.png. Skipping.\n"
          ]
        },
        {
          "name": "stderr",
          "output_type": "stream",
          "text": [
            "Landmark occlusion: ffhq-cropped/morphs:  63%|██████▎   | 15633/25012 [1:27:27<1:41:05,  1.55it/s]"
          ]
        },
        {
          "name": "stdout",
          "output_type": "stream",
          "text": [
            "No face detected in stylegan-interp-W/49670_41250.png. Skipping.\n"
          ]
        },
        {
          "name": "stderr",
          "output_type": "stream",
          "text": [
            "Landmark occlusion: ffhq-cropped/morphs:  63%|██████▎   | 15715/25012 [1:28:38<1:44:27,  1.48it/s]"
          ]
        },
        {
          "name": "stdout",
          "output_type": "stream",
          "text": [
            "No face detected in stylegan-interp-W/46797_30876.png. Skipping.\n"
          ]
        },
        {
          "name": "stderr",
          "output_type": "stream",
          "text": [
            "Landmark occlusion: ffhq-cropped/morphs:  63%|██████▎   | 15770/25012 [1:29:20<2:15:32,  1.14it/s]"
          ]
        },
        {
          "name": "stdout",
          "output_type": "stream",
          "text": [
            "No face detected in stylegan-interp-W/48560_21090.png. Skipping.\n"
          ]
        },
        {
          "name": "stderr",
          "output_type": "stream",
          "text": [
            "Landmark occlusion: ffhq-cropped/morphs:  64%|██████▎   | 15919/25012 [1:31:06<1:42:56,  1.47it/s]"
          ]
        },
        {
          "name": "stdout",
          "output_type": "stream",
          "text": [
            "No face detected in stylegan-interp-W/29003_10890.png. Skipping.\n"
          ]
        },
        {
          "name": "stderr",
          "output_type": "stream",
          "text": [
            "Landmark occlusion: ffhq-cropped/morphs:  65%|██████▌   | 16288/25012 [1:35:31<1:39:10,  1.47it/s]"
          ]
        },
        {
          "name": "stdout",
          "output_type": "stream",
          "text": [
            "No face detected in stylegan-interp-W/66571_42620.png. Skipping.\n"
          ]
        },
        {
          "name": "stderr",
          "output_type": "stream",
          "text": [
            "Landmark occlusion: ffhq-cropped/morphs:  65%|██████▌   | 16367/25012 [1:36:26<1:19:59,  1.80it/s]"
          ]
        },
        {
          "name": "stdout",
          "output_type": "stream",
          "text": [
            "No face detected in stylegan-interp-W/27268_34100.png. Skipping.\n"
          ]
        },
        {
          "name": "stderr",
          "output_type": "stream",
          "text": [
            "Landmark occlusion: ffhq-cropped/morphs:  66%|██████▌   | 16566/25012 [1:38:52<1:29:34,  1.57it/s]"
          ]
        },
        {
          "name": "stdout",
          "output_type": "stream",
          "text": [
            "No face detected in stylegan-interp-W/29662_11914.png. Skipping.\n"
          ]
        },
        {
          "name": "stderr",
          "output_type": "stream",
          "text": [
            "Landmark occlusion: ffhq-cropped/morphs:  67%|██████▋   | 16665/25012 [1:39:58<1:08:25,  2.03it/s]"
          ]
        },
        {
          "name": "stdout",
          "output_type": "stream",
          "text": [
            "No face detected in stylegan-interp-W/19246_17668.png. Skipping.\n"
          ]
        },
        {
          "name": "stderr",
          "output_type": "stream",
          "text": [
            "Landmark occlusion: ffhq-cropped/morphs:  67%|██████▋   | 16713/25012 [1:40:32<1:10:42,  1.96it/s]"
          ]
        },
        {
          "name": "stdout",
          "output_type": "stream",
          "text": [
            "No face detected in stylegan-interp-W/32799_19862.png. Skipping.\n"
          ]
        },
        {
          "name": "stderr",
          "output_type": "stream",
          "text": [
            "Landmark occlusion: ffhq-cropped/morphs:  67%|██████▋   | 16782/25012 [1:41:21<1:17:43,  1.76it/s]"
          ]
        },
        {
          "name": "stdout",
          "output_type": "stream",
          "text": [
            "No face detected in stylegan-interp-W/23736_64146.png. Skipping.\n"
          ]
        },
        {
          "name": "stderr",
          "output_type": "stream",
          "text": [
            "Landmark occlusion: ffhq-cropped/morphs:  67%|██████▋   | 16795/25012 [1:41:29<1:11:46,  1.91it/s]"
          ]
        },
        {
          "name": "stdout",
          "output_type": "stream",
          "text": [
            "No face detected in stylegan-interp-W/49555_16346.png. Skipping.\n"
          ]
        },
        {
          "name": "stderr",
          "output_type": "stream",
          "text": [
            "Landmark occlusion: ffhq-cropped/morphs:  68%|██████▊   | 16895/25012 [1:42:45<1:39:46,  1.36it/s]"
          ]
        },
        {
          "name": "stdout",
          "output_type": "stream",
          "text": [
            "No face detected in stylegan-interp-W/05768_06006 (1).png. Skipping.\n"
          ]
        },
        {
          "name": "stderr",
          "output_type": "stream",
          "text": [
            "Landmark occlusion: ffhq-cropped/morphs:  68%|██████▊   | 16897/25012 [1:42:46<1:25:40,  1.58it/s]"
          ]
        },
        {
          "name": "stdout",
          "output_type": "stream",
          "text": [
            "No face detected in stylegan-interp-W/05768_06006.png. Skipping.\n"
          ]
        },
        {
          "name": "stderr",
          "output_type": "stream",
          "text": [
            "Landmark occlusion: ffhq-cropped/morphs:  68%|██████▊   | 16983/25012 [1:43:58<1:22:10,  1.63it/s]"
          ]
        },
        {
          "name": "stdout",
          "output_type": "stream",
          "text": [
            "No face detected in stylegan-interp-W/63146_16041.png. Skipping.\n"
          ]
        },
        {
          "name": "stderr",
          "output_type": "stream",
          "text": [
            "Landmark occlusion: ffhq-cropped/morphs:  68%|██████▊   | 17076/25012 [1:45:10<1:24:49,  1.56it/s]"
          ]
        },
        {
          "name": "stdout",
          "output_type": "stream",
          "text": [
            "No face detected in stylegan-interp-W/24364_65607.png. Skipping.\n"
          ]
        },
        {
          "name": "stderr",
          "output_type": "stream",
          "text": [
            "Landmark occlusion: ffhq-cropped/morphs:  70%|██████▉   | 17414/25012 [1:49:28<1:32:40,  1.37it/s]"
          ]
        },
        {
          "name": "stdout",
          "output_type": "stream",
          "text": [
            "No face detected in stylegan-interp-W/36647_13672.png. Skipping.\n"
          ]
        },
        {
          "name": "stderr",
          "output_type": "stream",
          "text": [
            "Landmark occlusion: ffhq-cropped/morphs:  70%|██████▉   | 17416/25012 [1:49:29<1:17:07,  1.64it/s]"
          ]
        },
        {
          "name": "stdout",
          "output_type": "stream",
          "text": [
            "No face detected in stylegan-interp-W/20715_27679.png. Skipping.\n"
          ]
        },
        {
          "name": "stderr",
          "output_type": "stream",
          "text": [
            "Landmark occlusion: ffhq-cropped/morphs:  70%|███████   | 17538/25012 [1:50:59<1:14:40,  1.67it/s]"
          ]
        },
        {
          "name": "stdout",
          "output_type": "stream",
          "text": [
            "No face detected in stylegan-interp-W/55892_14165.png. Skipping.\n"
          ]
        },
        {
          "name": "stderr",
          "output_type": "stream",
          "text": [
            "Landmark occlusion: ffhq-cropped/morphs:  70%|███████   | 17599/25012 [1:51:51<1:17:14,  1.60it/s]"
          ]
        },
        {
          "name": "stdout",
          "output_type": "stream",
          "text": [
            "No face detected in stylegan-interp-W/05394_37085.png. Skipping.\n"
          ]
        },
        {
          "name": "stderr",
          "output_type": "stream",
          "text": [
            "Landmark occlusion: ffhq-cropped/morphs:  71%|███████   | 17721/25012 [1:53:15<1:15:07,  1.62it/s]"
          ]
        },
        {
          "name": "stdout",
          "output_type": "stream",
          "text": [
            "No face detected in stylegan-interp-W/47503_14805.png. Skipping.\n"
          ]
        },
        {
          "name": "stderr",
          "output_type": "stream",
          "text": [
            "Landmark occlusion: ffhq-cropped/morphs:  72%|███████▏  | 17959/25012 [1:56:05<1:08:18,  1.72it/s]"
          ]
        },
        {
          "name": "stdout",
          "output_type": "stream",
          "text": [
            "No face detected in stylegan-interp-W/36303_04925.png. Skipping.\n"
          ]
        },
        {
          "name": "stderr",
          "output_type": "stream",
          "text": [
            "Landmark occlusion: ffhq-cropped/morphs:  72%|███████▏  | 17961/25012 [1:56:06<1:08:19,  1.72it/s]"
          ]
        },
        {
          "name": "stdout",
          "output_type": "stream",
          "text": [
            "No face detected in stylegan-interp-W/58807_28950.png. Skipping.\n"
          ]
        },
        {
          "name": "stderr",
          "output_type": "stream",
          "text": [
            "Landmark occlusion: ffhq-cropped/morphs:  72%|███████▏  | 18041/25012 [1:57:02<1:13:22,  1.58it/s]"
          ]
        },
        {
          "name": "stdout",
          "output_type": "stream",
          "text": [
            "No face detected in stylegan-interp-W/11349_38080.png. Skipping.\n"
          ]
        },
        {
          "name": "stderr",
          "output_type": "stream",
          "text": [
            "Landmark occlusion: ffhq-cropped/morphs:  73%|███████▎  | 18233/25012 [1:59:29<1:19:51,  1.41it/s]"
          ]
        },
        {
          "name": "stdout",
          "output_type": "stream",
          "text": [
            "No face detected in stylegan-interp-W/17017_02379.png. Skipping.\n"
          ]
        },
        {
          "name": "stderr",
          "output_type": "stream",
          "text": [
            "Landmark occlusion: ffhq-cropped/morphs:  73%|███████▎  | 18284/25012 [2:00:06<1:11:02,  1.58it/s]"
          ]
        },
        {
          "name": "stdout",
          "output_type": "stream",
          "text": [
            "No face detected in stylegan-interp-W/09184_25216.png. Skipping.\n"
          ]
        },
        {
          "name": "stderr",
          "output_type": "stream",
          "text": [
            "Landmark occlusion: ffhq-cropped/morphs:  73%|███████▎  | 18325/25012 [2:00:37<1:15:14,  1.48it/s]"
          ]
        },
        {
          "name": "stdout",
          "output_type": "stream",
          "text": [
            "No face detected in stylegan-interp-W/18271_01462.png. Skipping.\n"
          ]
        },
        {
          "name": "stderr",
          "output_type": "stream",
          "text": [
            "Landmark occlusion: ffhq-cropped/morphs:  73%|███████▎  | 18339/25012 [2:00:47<1:07:10,  1.66it/s]"
          ]
        },
        {
          "name": "stdout",
          "output_type": "stream",
          "text": [
            "No face detected in stylegan-interp-W/32302_22202.png. Skipping.\n"
          ]
        },
        {
          "name": "stderr",
          "output_type": "stream",
          "text": [
            "Landmark occlusion: ffhq-cropped/morphs:  74%|███████▍  | 18476/25012 [2:02:34<1:10:02,  1.56it/s]"
          ]
        },
        {
          "name": "stdout",
          "output_type": "stream",
          "text": [
            "No face detected in stylegan-interp-W/47547_43754.png. Skipping.\n"
          ]
        },
        {
          "name": "stderr",
          "output_type": "stream",
          "text": [
            "Landmark occlusion: ffhq-cropped/morphs:  75%|███████▍  | 18665/25012 [2:04:58<1:01:38,  1.72it/s]"
          ]
        },
        {
          "name": "stdout",
          "output_type": "stream",
          "text": [
            "No face detected in stylegan-interp-W/68845_39844.png. Skipping.\n"
          ]
        },
        {
          "name": "stderr",
          "output_type": "stream",
          "text": [
            "Landmark occlusion: ffhq-cropped/morphs:  75%|███████▍  | 18706/25012 [2:05:26<1:04:06,  1.64it/s]"
          ]
        },
        {
          "name": "stdout",
          "output_type": "stream",
          "text": [
            "No face detected in stylegan-interp-W/43580_46951.png. Skipping.\n"
          ]
        },
        {
          "name": "stderr",
          "output_type": "stream",
          "text": [
            "Landmark occlusion: ffhq-cropped/morphs:  75%|███████▍  | 18741/25012 [2:05:49<1:02:37,  1.67it/s]"
          ]
        },
        {
          "name": "stdout",
          "output_type": "stream",
          "text": [
            "No face detected in stylegan-interp-W/20065_54487.png. Skipping.\n"
          ]
        },
        {
          "name": "stderr",
          "output_type": "stream",
          "text": [
            "\rLandmark occlusion: ffhq-cropped/morphs:  75%|███████▍  | 18742/25012 [2:05:49<52:05,  2.01it/s]  "
          ]
        },
        {
          "name": "stdout",
          "output_type": "stream",
          "text": [
            "No face detected in stylegan-interp-W/27092_24158.png. Skipping.\n"
          ]
        },
        {
          "name": "stderr",
          "output_type": "stream",
          "text": [
            "Landmark occlusion: ffhq-cropped/morphs:  75%|███████▌  | 18795/25012 [2:06:26<1:11:16,  1.45it/s]"
          ]
        },
        {
          "name": "stdout",
          "output_type": "stream",
          "text": [
            "No face detected in stylegan-interp-W/67952_04396.png. Skipping.\n"
          ]
        },
        {
          "name": "stderr",
          "output_type": "stream",
          "text": [
            "Landmark occlusion: ffhq-cropped/morphs:  75%|███████▌  | 18853/25012 [2:07:06<1:21:12,  1.26it/s]"
          ]
        },
        {
          "name": "stdout",
          "output_type": "stream",
          "text": [
            "No face detected in stylegan-interp-W/64237_63431.png. Skipping.\n"
          ]
        },
        {
          "name": "stderr",
          "output_type": "stream",
          "text": [
            "Landmark occlusion: ffhq-cropped/morphs:  76%|███████▌  | 18914/25012 [2:07:48<57:40,  1.76it/s]  "
          ]
        },
        {
          "name": "stdout",
          "output_type": "stream",
          "text": [
            "No face detected in stylegan-interp-W/68086_63562.png. Skipping.\n"
          ]
        },
        {
          "name": "stderr",
          "output_type": "stream",
          "text": [
            "Landmark occlusion: ffhq-cropped/morphs:  76%|███████▌  | 18917/25012 [2:07:50<1:03:54,  1.59it/s]"
          ]
        },
        {
          "name": "stdout",
          "output_type": "stream",
          "text": [
            "No face detected in stylegan-interp-W/55096_55313.png. Skipping.\n"
          ]
        },
        {
          "name": "stderr",
          "output_type": "stream",
          "text": [
            "Landmark occlusion: ffhq-cropped/morphs:  77%|███████▋  | 19163/25012 [2:10:51<52:10,  1.87it/s]  "
          ]
        },
        {
          "name": "stdout",
          "output_type": "stream",
          "text": [
            "No face detected in stylegan-interp-W/19213_35114.png. Skipping.\n"
          ]
        },
        {
          "name": "stderr",
          "output_type": "stream",
          "text": [
            "Landmark occlusion: ffhq-cropped/morphs:  77%|███████▋  | 19217/25012 [2:11:32<1:04:48,  1.49it/s]"
          ]
        },
        {
          "name": "stdout",
          "output_type": "stream",
          "text": [
            "No face detected in stylegan-interp-W/47646_68837.png. Skipping.\n"
          ]
        },
        {
          "name": "stderr",
          "output_type": "stream",
          "text": [
            "Landmark occlusion: ffhq-cropped/morphs:  77%|███████▋  | 19334/25012 [2:12:59<57:48,  1.64it/s]"
          ]
        },
        {
          "name": "stdout",
          "output_type": "stream",
          "text": [
            "No face detected in stylegan-interp-W/31453_32596.png. Skipping.\n"
          ]
        },
        {
          "name": "stderr",
          "output_type": "stream",
          "text": [
            "Landmark occlusion: ffhq-cropped/morphs:  78%|███████▊  | 19391/25012 [2:13:39<1:06:30,  1.41it/s]"
          ]
        },
        {
          "name": "stdout",
          "output_type": "stream",
          "text": [
            "No face detected in stylegan-interp-W/22451_44135.png. Skipping.\n"
          ]
        },
        {
          "name": "stderr",
          "output_type": "stream",
          "text": [
            "Landmark occlusion: ffhq-cropped/morphs:  78%|███████▊  | 19474/25012 [2:14:37<1:05:18,  1.41it/s]"
          ]
        },
        {
          "name": "stdout",
          "output_type": "stream",
          "text": [
            "No face detected in stylegan-interp-W/68895_59876.png. Skipping.\n"
          ]
        },
        {
          "name": "stderr",
          "output_type": "stream",
          "text": [
            "Landmark occlusion: ffhq-cropped/morphs:  78%|███████▊  | 19526/25012 [2:15:18<53:44,  1.70it/s]  "
          ]
        },
        {
          "name": "stdout",
          "output_type": "stream",
          "text": [
            "No face detected in stylegan-interp-W/31027_26775.png. Skipping.\n"
          ]
        },
        {
          "name": "stderr",
          "output_type": "stream",
          "text": [
            "Landmark occlusion: ffhq-cropped/morphs:  79%|███████▊  | 19656/25012 [2:16:49<51:49,  1.72it/s]"
          ]
        },
        {
          "name": "stdout",
          "output_type": "stream",
          "text": [
            "No face detected in stylegan-interp-W/28748_07588.png. Skipping.\n"
          ]
        },
        {
          "name": "stderr",
          "output_type": "stream",
          "text": [
            "Landmark occlusion: ffhq-cropped/morphs:  79%|███████▉  | 19780/25012 [2:18:15<53:30,  1.63it/s]  "
          ]
        },
        {
          "name": "stdout",
          "output_type": "stream",
          "text": [
            "No face detected in stylegan-interp-W/39974_46779.png. Skipping.\n"
          ]
        },
        {
          "name": "stderr",
          "output_type": "stream",
          "text": [
            "Landmark occlusion: ffhq-cropped/morphs:  79%|███████▉  | 19808/25012 [2:18:33<48:32,  1.79it/s]"
          ]
        },
        {
          "name": "stdout",
          "output_type": "stream",
          "text": [
            "No face detected in stylegan-interp-W/66558_34365.png. Skipping.\n"
          ]
        },
        {
          "name": "stderr",
          "output_type": "stream",
          "text": [
            "Landmark occlusion: ffhq-cropped/morphs:  79%|███████▉  | 19825/25012 [2:18:46<53:39,  1.61it/s]  "
          ]
        },
        {
          "name": "stdout",
          "output_type": "stream",
          "text": [
            "No face detected in stylegan-interp-W/10004_58642.png. Skipping.\n"
          ]
        },
        {
          "name": "stderr",
          "output_type": "stream",
          "text": [
            "Landmark occlusion: ffhq-cropped/morphs:  80%|███████▉  | 19895/25012 [2:19:46<52:22,  1.63it/s]  "
          ]
        },
        {
          "name": "stdout",
          "output_type": "stream",
          "text": [
            "No face detected in stylegan-interp-W/33429_38595.png. Skipping.\n"
          ]
        },
        {
          "name": "stderr",
          "output_type": "stream",
          "text": [
            "Landmark occlusion: ffhq-cropped/morphs:  81%|████████  | 20222/25012 [2:23:31<55:33,  1.44it/s]"
          ]
        },
        {
          "name": "stdout",
          "output_type": "stream",
          "text": [
            "No face detected in stylegan-interp-W+/47395_38992.png. Skipping.\n"
          ]
        },
        {
          "name": "stderr",
          "output_type": "stream",
          "text": [
            "Landmark occlusion: ffhq-cropped/morphs:  81%|████████  | 20240/25012 [2:23:44<45:27,  1.75it/s]"
          ]
        },
        {
          "name": "stdout",
          "output_type": "stream",
          "text": [
            "No face detected in stylegan-interp-W+/37084_67012.png. Skipping.\n"
          ]
        },
        {
          "name": "stderr",
          "output_type": "stream",
          "text": [
            "Landmark occlusion: ffhq-cropped/morphs:  81%|████████  | 20303/25012 [2:24:26<50:36,  1.55it/s]"
          ]
        },
        {
          "name": "stdout",
          "output_type": "stream",
          "text": [
            "No face detected in stylegan-interp-W+/15591_11402.png. Skipping.\n"
          ]
        },
        {
          "name": "stderr",
          "output_type": "stream",
          "text": [
            "Landmark occlusion: ffhq-cropped/morphs:  81%|████████  | 20308/25012 [2:24:28<41:45,  1.88it/s]"
          ]
        },
        {
          "name": "stdout",
          "output_type": "stream",
          "text": [
            "No face detected in stylegan-interp-W+/30390_69734.png. Skipping.\n"
          ]
        },
        {
          "name": "stderr",
          "output_type": "stream",
          "text": [
            "Landmark occlusion: ffhq-cropped/morphs:  81%|████████▏ | 20348/25012 [2:25:01<1:01:57,  1.25it/s]"
          ]
        },
        {
          "name": "stdout",
          "output_type": "stream",
          "text": [
            "No face detected in stylegan-interp-W+/06463_60995.png. Skipping.\n"
          ]
        },
        {
          "name": "stderr",
          "output_type": "stream",
          "text": [
            "Landmark occlusion: ffhq-cropped/morphs:  81%|████████▏ | 20374/25012 [2:25:20<50:30,  1.53it/s]"
          ]
        },
        {
          "name": "stdout",
          "output_type": "stream",
          "text": [
            "No face detected in stylegan-interp-W+/67948_57671.png. Skipping.\n"
          ]
        },
        {
          "name": "stderr",
          "output_type": "stream",
          "text": [
            "Landmark occlusion: ffhq-cropped/morphs:  83%|████████▎ | 20650/25012 [2:28:38<38:14,  1.90it/s]"
          ]
        },
        {
          "name": "stdout",
          "output_type": "stream",
          "text": [
            "No face detected in stylegan-interp-W+/32179_65933.png. Skipping.\n"
          ]
        },
        {
          "name": "stderr",
          "output_type": "stream",
          "text": [
            "Landmark occlusion: ffhq-cropped/morphs:  83%|████████▎ | 20781/25012 [2:30:19<59:43,  1.18it/s]"
          ]
        },
        {
          "name": "stdout",
          "output_type": "stream",
          "text": [
            "No face detected in stylegan-interp-W+/62385_25206.png. Skipping.\n"
          ]
        },
        {
          "name": "stderr",
          "output_type": "stream",
          "text": [
            "Landmark occlusion: ffhq-cropped/morphs:  83%|████████▎ | 20869/25012 [2:31:28<46:57,  1.47it/s]"
          ]
        },
        {
          "name": "stdout",
          "output_type": "stream",
          "text": [
            "No face detected in stylegan-interp-W+/10573_01929.png. Skipping.\n"
          ]
        },
        {
          "name": "stderr",
          "output_type": "stream",
          "text": [
            "Landmark occlusion: ffhq-cropped/morphs:  84%|████████▍ | 21001/25012 [2:32:58<39:58,  1.67it/s]"
          ]
        },
        {
          "name": "stdout",
          "output_type": "stream",
          "text": [
            "No face detected in stylegan-interp-W+/17637_52591.png. Skipping.\n"
          ]
        },
        {
          "name": "stderr",
          "output_type": "stream",
          "text": [
            "Landmark occlusion: ffhq-cropped/morphs:  84%|████████▍ | 21016/25012 [2:33:07<34:24,  1.94it/s]"
          ]
        },
        {
          "name": "stdout",
          "output_type": "stream",
          "text": [
            "No face detected in stylegan-interp-W+/39572_55654.png. Skipping.\n"
          ]
        },
        {
          "name": "stderr",
          "output_type": "stream",
          "text": [
            "Landmark occlusion: ffhq-cropped/morphs:  85%|████████▍ | 21166/25012 [2:35:05<40:07,  1.60it/s]"
          ]
        },
        {
          "name": "stdout",
          "output_type": "stream",
          "text": [
            "No face detected in stylegan-interp-W+/50136_52930.png. Skipping.\n"
          ]
        },
        {
          "name": "stderr",
          "output_type": "stream",
          "text": [
            "Landmark occlusion: ffhq-cropped/morphs:  85%|████████▌ | 21264/25012 [2:36:26<49:57,  1.25it/s]"
          ]
        },
        {
          "name": "stdout",
          "output_type": "stream",
          "text": [
            "No face detected in stylegan-interp-W+/08424_21874.png. Skipping.\n"
          ]
        },
        {
          "name": "stderr",
          "output_type": "stream",
          "text": [
            "Landmark occlusion: ffhq-cropped/morphs:  86%|████████▌ | 21512/25012 [2:39:23<35:01,  1.67it/s]"
          ]
        },
        {
          "name": "stdout",
          "output_type": "stream",
          "text": [
            "No face detected in stylegan-interp-W+/32799_19862.png. Skipping.\n"
          ]
        },
        {
          "name": "stderr",
          "output_type": "stream",
          "text": [
            "Landmark occlusion: ffhq-cropped/morphs:  86%|████████▋ | 21604/25012 [2:40:33<40:41,  1.40it/s]"
          ]
        },
        {
          "name": "stdout",
          "output_type": "stream",
          "text": [
            "No face detected in stylegan-interp-W+/19246_17668.png. Skipping.\n"
          ]
        },
        {
          "name": "stderr",
          "output_type": "stream",
          "text": [
            "Landmark occlusion: ffhq-cropped/morphs:  87%|████████▋ | 21705/25012 [2:41:47<30:10,  1.83it/s]"
          ]
        },
        {
          "name": "stdout",
          "output_type": "stream",
          "text": [
            "No face detected in stylegan-interp-W+/24644_44125.png. Skipping.\n"
          ]
        },
        {
          "name": "stderr",
          "output_type": "stream",
          "text": [
            "Landmark occlusion: ffhq-cropped/morphs:  87%|████████▋ | 21768/25012 [2:42:30<43:19,  1.25it/s]"
          ]
        },
        {
          "name": "stdout",
          "output_type": "stream",
          "text": [
            "No face detected in stylegan-interp-W+/01479_47001.png. Skipping.\n"
          ]
        },
        {
          "name": "stderr",
          "output_type": "stream",
          "text": [
            "Landmark occlusion: ffhq-cropped/morphs:  89%|████████▊ | 22170/25012 [2:47:35<31:51,  1.49it/s]"
          ]
        },
        {
          "name": "stdout",
          "output_type": "stream",
          "text": [
            "No face detected in stylegan-interp-W+/29752_29281.png. Skipping.\n"
          ]
        },
        {
          "name": "stderr",
          "output_type": "stream",
          "text": [
            "Landmark occlusion: ffhq-cropped/morphs:  89%|████████▉ | 22249/25012 [2:48:31<28:50,  1.60it/s]"
          ]
        },
        {
          "name": "stdout",
          "output_type": "stream",
          "text": [
            "No face detected in stylegan-interp-W+/62470_24489.png. Skipping.\n"
          ]
        },
        {
          "name": "stderr",
          "output_type": "stream",
          "text": [
            "Landmark occlusion: ffhq-cropped/morphs:  89%|████████▉ | 22305/25012 [2:49:11<25:16,  1.78it/s]"
          ]
        },
        {
          "name": "stdout",
          "output_type": "stream",
          "text": [
            "No face detected in stylegan-interp-W+/29341_69370.png. Skipping.\n"
          ]
        },
        {
          "name": "stderr",
          "output_type": "stream",
          "text": [
            "Landmark occlusion: ffhq-cropped/morphs:  89%|████████▉ | 22308/25012 [2:49:12<25:00,  1.80it/s]"
          ]
        },
        {
          "name": "stdout",
          "output_type": "stream",
          "text": [
            "No face detected in stylegan-interp-W+/00482_23623.png. Skipping.\n"
          ]
        },
        {
          "name": "stderr",
          "output_type": "stream",
          "text": [
            "Landmark occlusion: ffhq-cropped/morphs:  89%|████████▉ | 22350/25012 [2:49:51<1:06:37,  1.50s/it]"
          ]
        },
        {
          "name": "stdout",
          "output_type": "stream",
          "text": [
            "No face detected in stylegan-interp-W+/05335_49459.png. Skipping.\n"
          ]
        },
        {
          "name": "stderr",
          "output_type": "stream",
          "text": [
            "Landmark occlusion: ffhq-cropped/morphs:  90%|████████▉ | 22477/25012 [2:51:26<23:21,  1.81it/s]"
          ]
        },
        {
          "name": "stdout",
          "output_type": "stream",
          "text": [
            "No face detected in stylegan-interp-W+/09184_25216.png. Skipping.\n"
          ]
        },
        {
          "name": "stderr",
          "output_type": "stream",
          "text": [
            "Landmark occlusion: ffhq-cropped/morphs:  90%|████████▉ | 22489/25012 [2:51:33<25:05,  1.68it/s]"
          ]
        },
        {
          "name": "stdout",
          "output_type": "stream",
          "text": [
            "No face detected in stylegan-interp-W+/03742_51033.png. Skipping.\n"
          ]
        },
        {
          "name": "stderr",
          "output_type": "stream",
          "text": [
            "Landmark occlusion: ffhq-cropped/morphs:  90%|█████████ | 22536/25012 [2:52:07<31:00,  1.33it/s]"
          ]
        },
        {
          "name": "stdout",
          "output_type": "stream",
          "text": [
            "No face detected in stylegan-interp-W+/47503_14805.png. Skipping.\n"
          ]
        },
        {
          "name": "stderr",
          "output_type": "stream",
          "text": [
            "Landmark occlusion: ffhq-cropped/morphs:  91%|█████████ | 22666/25012 [2:53:42<25:30,  1.53it/s]"
          ]
        },
        {
          "name": "stdout",
          "output_type": "stream",
          "text": [
            "No face detected in stylegan-interp-W+/46277_06599.png. Skipping.\n"
          ]
        },
        {
          "name": "stderr",
          "output_type": "stream",
          "text": [
            "Landmark occlusion: ffhq-cropped/morphs:  91%|█████████ | 22719/25012 [2:54:18<20:49,  1.83it/s]"
          ]
        },
        {
          "name": "stdout",
          "output_type": "stream",
          "text": [
            "No face detected in stylegan-interp-W+/01912_30549.png. Skipping.\n"
          ]
        },
        {
          "name": "stderr",
          "output_type": "stream",
          "text": [
            "Landmark occlusion: ffhq-cropped/morphs:  92%|█████████▏| 22973/25012 [2:57:20<21:01,  1.62it/s]"
          ]
        },
        {
          "name": "stdout",
          "output_type": "stream",
          "text": [
            "No face detected in stylegan-interp-W+/25655_34861.png. Skipping.\n"
          ]
        },
        {
          "name": "stderr",
          "output_type": "stream",
          "text": [
            "Landmark occlusion: ffhq-cropped/morphs:  92%|█████████▏| 23064/25012 [2:58:26<21:46,  1.49it/s]"
          ]
        },
        {
          "name": "stdout",
          "output_type": "stream",
          "text": [
            "No face detected in stylegan-interp-W+/23736_64146.png. Skipping.\n"
          ]
        },
        {
          "name": "stderr",
          "output_type": "stream",
          "text": [
            "Landmark occlusion: ffhq-cropped/morphs:  93%|█████████▎| 23348/25012 [3:02:02<17:19,  1.60it/s]"
          ]
        },
        {
          "name": "stdout",
          "output_type": "stream",
          "text": [
            "No face detected in stylegan-interp-W+/68895_59876.png. Skipping.\n"
          ]
        },
        {
          "name": "stderr",
          "output_type": "stream",
          "text": [
            "Landmark occlusion: ffhq-cropped/morphs:  94%|█████████▎| 23435/25012 [3:03:08<15:28,  1.70it/s]"
          ]
        },
        {
          "name": "stdout",
          "output_type": "stream",
          "text": [
            "No face detected in stylegan-interp-W+/05394_37085.png. Skipping.\n"
          ]
        },
        {
          "name": "stderr",
          "output_type": "stream",
          "text": [
            "Landmark occlusion: ffhq-cropped/morphs:  94%|█████████▍| 23589/25012 [3:04:58<13:49,  1.72it/s]"
          ]
        },
        {
          "name": "stdout",
          "output_type": "stream",
          "text": [
            "No face detected in stylegan-interp-W+/47646_68837.png. Skipping.\n"
          ]
        },
        {
          "name": "stderr",
          "output_type": "stream",
          "text": [
            "Landmark occlusion: ffhq-cropped/morphs:  94%|█████████▍| 23592/25012 [3:05:00<13:46,  1.72it/s]"
          ]
        },
        {
          "name": "stdout",
          "output_type": "stream",
          "text": [
            "No face detected in stylegan-interp-W+/44011_58245.png. Skipping.\n"
          ]
        },
        {
          "name": "stderr",
          "output_type": "stream",
          "text": [
            "Landmark occlusion: ffhq-cropped/morphs:  94%|█████████▍| 23612/25012 [3:05:19<41:07,  1.76s/it]"
          ]
        },
        {
          "name": "stdout",
          "output_type": "stream",
          "text": [
            "No face detected in stylegan-interp-W+/68845_39844.png. Skipping.\n"
          ]
        },
        {
          "name": "stderr",
          "output_type": "stream",
          "text": [
            "Landmark occlusion: ffhq-cropped/morphs:  94%|█████████▍| 23634/25012 [3:05:35<11:49,  1.94it/s]"
          ]
        },
        {
          "name": "stdout",
          "output_type": "stream",
          "text": [
            "No face detected in stylegan-interp-W+/24364_65607.png. Skipping.\n"
          ]
        },
        {
          "name": "stderr",
          "output_type": "stream",
          "text": [
            "Landmark occlusion: ffhq-cropped/morphs:  95%|█████████▍| 23715/25012 [3:06:42<12:39,  1.71it/s]"
          ]
        },
        {
          "name": "stdout",
          "output_type": "stream",
          "text": [
            "No face detected in stylegan-interp-W+/27092_24158.png. Skipping.\n"
          ]
        },
        {
          "name": "stderr",
          "output_type": "stream",
          "text": [
            "Landmark occlusion: ffhq-cropped/morphs:  95%|█████████▌| 23788/25012 [3:07:49<24:28,  1.20s/it]"
          ]
        },
        {
          "name": "stdout",
          "output_type": "stream",
          "text": [
            "No face detected in stylegan-interp-W+/22451_44135.png. Skipping.\n"
          ]
        },
        {
          "name": "stderr",
          "output_type": "stream",
          "text": [
            "Landmark occlusion: ffhq-cropped/morphs:  95%|█████████▌| 23823/25012 [3:08:16<20:28,  1.03s/it]"
          ]
        },
        {
          "name": "stdout",
          "output_type": "stream",
          "text": [
            "No face detected in stylegan-interp-W+/00607_37173.png. Skipping.\n"
          ]
        },
        {
          "name": "stderr",
          "output_type": "stream",
          "text": [
            "Landmark occlusion: ffhq-cropped/morphs:  95%|█████████▌| 23873/25012 [3:08:56<14:29,  1.31it/s]"
          ]
        },
        {
          "name": "stdout",
          "output_type": "stream",
          "text": [
            "No face detected in stylegan-interp-W+/23631_27895.png. Skipping.\n"
          ]
        },
        {
          "name": "stderr",
          "output_type": "stream",
          "text": [
            "Landmark occlusion: ffhq-cropped/morphs:  95%|█████████▌| 23878/25012 [3:08:59<12:29,  1.51it/s]"
          ]
        },
        {
          "name": "stdout",
          "output_type": "stream",
          "text": [
            "No face detected in stylegan-interp-W+/66558_34365.png. Skipping.\n"
          ]
        },
        {
          "name": "stderr",
          "output_type": "stream",
          "text": [
            "Landmark occlusion: ffhq-cropped/morphs:  96%|█████████▌| 23952/25012 [3:09:52<10:36,  1.66it/s]"
          ]
        },
        {
          "name": "stdout",
          "output_type": "stream",
          "text": [
            "No face detected in stylegan-interp-W+/17374_15459.png. Skipping.\n"
          ]
        },
        {
          "name": "stderr",
          "output_type": "stream",
          "text": [
            "Landmark occlusion: ffhq-cropped/morphs:  97%|█████████▋| 24334/25012 [3:15:34<05:31,  2.05it/s]"
          ]
        },
        {
          "name": "stdout",
          "output_type": "stream",
          "text": [
            "No face detected in stylegan-interp-W+/54155_27232.png. Skipping.\n"
          ]
        },
        {
          "name": "stderr",
          "output_type": "stream",
          "text": [
            "Landmark occlusion: ffhq-cropped/morphs:  99%|█████████▉| 24866/25012 [3:21:33<00:58,  2.50it/s]"
          ]
        },
        {
          "name": "stdout",
          "output_type": "stream",
          "text": [
            "No face detected in stylegan-interp-W+/42160_63956.png. Skipping.\n"
          ]
        },
        {
          "name": "stderr",
          "output_type": "stream",
          "text": [
            "Landmark occlusion: ffhq-cropped/morphs: 100%|█████████▉| 24929/25012 [3:22:06<00:27,  2.97it/s]"
          ]
        },
        {
          "name": "stdout",
          "output_type": "stream",
          "text": [
            "No face detected in stylegan-interp-W+/67247_53155.png. Skipping.\n"
          ]
        },
        {
          "name": "stderr",
          "output_type": "stream",
          "text": [
            "Landmark occlusion: ffhq-cropped/morphs: 100%|█████████▉| 24954/25012 [3:22:18<00:19,  2.96it/s]"
          ]
        },
        {
          "name": "stdout",
          "output_type": "stream",
          "text": [
            "No face detected in stylegan-interp-W+/36444_50210.png. Skipping.\n"
          ]
        },
        {
          "name": "stderr",
          "output_type": "stream",
          "text": [
            "Landmark occlusion: ffhq-cropped/morphs: 100%|██████████| 25012/25012 [3:22:42<00:00,  2.06it/s]"
          ]
        },
        {
          "name": "stdout",
          "output_type": "stream",
          "text": [
            "✅ Occlusion completed!\n"
          ]
        },
        {
          "name": "stderr",
          "output_type": "stream",
          "text": [
            "\n"
          ]
        }
      ],
      "source": [
        "for dataset in dataset_to_process:\n",
        "    create_occluded_regions_dataset(dataset)"
      ]
    },
    {
      "cell_type": "code",
      "source": [
        "%%shell\n",
        "# Delete any files with 0 bytes (error while processing)\n",
        "find /content/drive/MyDrive/mad/code/ViT-SVM/datasets/ -type f -size 0 -delete"
      ],
      "metadata": {
        "colab": {
          "base_uri": "https://localhost:8080/"
        },
        "id": "4OPfwClZT-52",
        "outputId": "3cfb6ac9-debd-431f-db38-9b2c1680d3ab"
      },
      "execution_count": null,
      "outputs": [
        {
          "output_type": "execute_result",
          "data": {
            "text/plain": []
          },
          "metadata": {},
          "execution_count": 3
        }
      ]
    },
    {
      "cell_type": "code",
      "execution_count": null,
      "metadata": {
        "id": "wARp72XtO072"
      },
      "outputs": [],
      "source": [
        "import time\n",
        "from google.colab import runtime\n",
        "\n",
        "#time.sleep(15 * 60)\n",
        "\n",
        "runtime.unassign()"
      ]
    }
  ],
  "metadata": {
    "colab": {
      "provenance": []
    },
    "kernelspec": {
      "display_name": "Python 3",
      "name": "python3"
    },
    "language_info": {
      "name": "python"
    }
  },
  "nbformat": 4,
  "nbformat_minor": 0
}